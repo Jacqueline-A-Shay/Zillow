{
 "cells": [
  {
   "cell_type": "markdown",
   "metadata": {},
   "source": [
    "**OFFICIAL ZILLOW DEFINITION OF HOME TYPES AND HOUSING STOCK**\n",
    "\n",
    "- Defines all homes as single-family, condominium and co-operative homes with a county record. Unless specified, all series cover this segment of the housing stock.\n",
    "\n",
    "- Condo/Co-op: Condominium and co-operative homes.\n",
    "\n",
    "- Multifamily 2+ units: Units in buildings with 5 or more housing units, that are not a condominiums or co-ops.\n",
    "\n",
    "- Duplex/Triplex: Housing units in buildings with 2 or 3 housing units.\n",
    "\n",
    "DS team request single unit properties\n",
    "\n",
    "predict the values of single unit properties that the tax district assesses using the property data from those whose last transaction was during the \"hot months\" (in terms of real estate demand) of May and June in 2017.\n",
    "\n",
    "properties assessed value, 'taxvaluedollarcnt'\n"
   ]
  },
  {
   "cell_type": "code",
   "execution_count": 1,
   "metadata": {},
   "outputs": [],
   "source": [
    "use zillow;\n",
    "# get only hot month\n",
    "select * from predictions_2017 WHERE transactiondate BETWEEN '2017-05-01' AND '2017-06-30';\n",
    "# get only single-family home\n",
    "\n",
    "select count(*) from predictions_2017 pr \n",
    "join properties_2017 p on pr.parcelid = p.parcelid \n",
    "WHERE pr.transactiondate BETWEEN '2017-05-01' AND '2017-06-30' AND p.unitcnt = 1;\n",
    "\n",
    "select count(*) from predictions_2017 pr \n",
    "join properties_2017 p on pr.parcelid = p.parcelid \n",
    "WHERE pr.transactiondate BETWEEN '2017-05-01' AND '2017-06-30' AND p.`propertylandusetypeid` = '261';\n",
    "\n",
    "# get location\n",
    "select fips, count(*) from properties_2017 group by fips;\n",
    "# 06111        Ventura County\n",
    "# 06059        Orange County\n",
    "# 06037        Los Angeles County"
   ]
  },
  {
   "cell_type": "markdown",
   "metadata": {},
   "source": [
    "For the first iteration of your model, use only square feet of the home, number of bedrooms, and number of bathrooms to estimate the properties assessed value, 'taxvaluedollarcnt'. You can expand this to other fields after you have completed an mvp (minimally viable product)."
   ]
  },
  {
   "cell_type": "markdown",
   "metadata": {},
   "source": [
    "**First attemp**\n",
    "\n",
    "Use bathroom, bedroom, squarefeet to predict taxable property value in transactions within 5/1/2017 - 6/30/2017\n",
    "\n",
    "property type id 261, single home\n",
    "\n",
    "Use Sklearn LinearRegression & OLS, \n",
    "\n",
    "(Only split into train/test)\n",
    "\n",
    "Tax distribution in 3 counties"
   ]
  },
  {
   "cell_type": "markdown",
   "metadata": {},
   "source": [
    "Re-read instruction & explore other reports\n",
    "1. Get data in - by category - data dictionary, understand full dataset and #isnull count in each\n",
    "2. Correlation\n",
    "3. Feature filter & Lasso & judge from correlation\n",
    "4. Try polynomial or others\n",
    "5. Report preparation, conclude take away"
   ]
  },
  {
   "cell_type": "code",
   "execution_count": 2,
   "metadata": {},
   "outputs": [],
   "source": [
    "import wrangle\n",
    "property_type = wrangle.get_data_from_mysql()"
   ]
  },
  {
   "cell_type": "code",
   "execution_count": 3,
   "metadata": {},
   "outputs": [
    {
     "data": {
      "text/html": [
       "<div>\n",
       "<style scoped>\n",
       "    .dataframe tbody tr th:only-of-type {\n",
       "        vertical-align: middle;\n",
       "    }\n",
       "\n",
       "    .dataframe tbody tr th {\n",
       "        vertical-align: top;\n",
       "    }\n",
       "\n",
       "    .dataframe thead th {\n",
       "        text-align: right;\n",
       "    }\n",
       "</style>\n",
       "<table border=\"1\" class=\"dataframe\">\n",
       "  <thead>\n",
       "    <tr style=\"text-align: right;\">\n",
       "      <th></th>\n",
       "      <th>propertylandusetypeid</th>\n",
       "      <th>propertylandusedesc</th>\n",
       "    </tr>\n",
       "  </thead>\n",
       "  <tbody>\n",
       "    <tr>\n",
       "      <th>0</th>\n",
       "      <td>31</td>\n",
       "      <td>Commercial/Office/Residential Mixed Used</td>\n",
       "    </tr>\n",
       "    <tr>\n",
       "      <th>1</th>\n",
       "      <td>46</td>\n",
       "      <td>Multi-Story Store</td>\n",
       "    </tr>\n",
       "    <tr>\n",
       "      <th>2</th>\n",
       "      <td>47</td>\n",
       "      <td>Store/Office (Mixed Use)</td>\n",
       "    </tr>\n",
       "    <tr>\n",
       "      <th>3</th>\n",
       "      <td>246</td>\n",
       "      <td>Duplex (2 Units, Any Combination)</td>\n",
       "    </tr>\n",
       "    <tr>\n",
       "      <th>4</th>\n",
       "      <td>247</td>\n",
       "      <td>Triplex (3 Units, Any Combination)</td>\n",
       "    </tr>\n",
       "    <tr>\n",
       "      <th>5</th>\n",
       "      <td>248</td>\n",
       "      <td>Quadruplex (4 Units, Any Combination)</td>\n",
       "    </tr>\n",
       "    <tr>\n",
       "      <th>6</th>\n",
       "      <td>260</td>\n",
       "      <td>Residential General</td>\n",
       "    </tr>\n",
       "    <tr>\n",
       "      <th>7</th>\n",
       "      <td>261</td>\n",
       "      <td>Single Family Residential</td>\n",
       "    </tr>\n",
       "    <tr>\n",
       "      <th>8</th>\n",
       "      <td>262</td>\n",
       "      <td>Rural Residence</td>\n",
       "    </tr>\n",
       "    <tr>\n",
       "      <th>9</th>\n",
       "      <td>263</td>\n",
       "      <td>Mobile Home</td>\n",
       "    </tr>\n",
       "    <tr>\n",
       "      <th>10</th>\n",
       "      <td>264</td>\n",
       "      <td>Townhouse</td>\n",
       "    </tr>\n",
       "    <tr>\n",
       "      <th>11</th>\n",
       "      <td>265</td>\n",
       "      <td>Cluster Home</td>\n",
       "    </tr>\n",
       "    <tr>\n",
       "      <th>12</th>\n",
       "      <td>266</td>\n",
       "      <td>Condominium</td>\n",
       "    </tr>\n",
       "    <tr>\n",
       "      <th>13</th>\n",
       "      <td>267</td>\n",
       "      <td>Cooperative</td>\n",
       "    </tr>\n",
       "    <tr>\n",
       "      <th>14</th>\n",
       "      <td>268</td>\n",
       "      <td>Row House</td>\n",
       "    </tr>\n",
       "    <tr>\n",
       "      <th>15</th>\n",
       "      <td>269</td>\n",
       "      <td>Planned Unit Development</td>\n",
       "    </tr>\n",
       "    <tr>\n",
       "      <th>16</th>\n",
       "      <td>270</td>\n",
       "      <td>Residential Common Area</td>\n",
       "    </tr>\n",
       "    <tr>\n",
       "      <th>17</th>\n",
       "      <td>271</td>\n",
       "      <td>Timeshare</td>\n",
       "    </tr>\n",
       "    <tr>\n",
       "      <th>18</th>\n",
       "      <td>273</td>\n",
       "      <td>Bungalow</td>\n",
       "    </tr>\n",
       "    <tr>\n",
       "      <th>19</th>\n",
       "      <td>274</td>\n",
       "      <td>Zero Lot Line</td>\n",
       "    </tr>\n",
       "    <tr>\n",
       "      <th>20</th>\n",
       "      <td>275</td>\n",
       "      <td>Manufactured, Modular, Prefabricated Homes</td>\n",
       "    </tr>\n",
       "    <tr>\n",
       "      <th>21</th>\n",
       "      <td>276</td>\n",
       "      <td>Patio Home</td>\n",
       "    </tr>\n",
       "    <tr>\n",
       "      <th>22</th>\n",
       "      <td>279</td>\n",
       "      <td>Inferred Single Family Residential</td>\n",
       "    </tr>\n",
       "    <tr>\n",
       "      <th>23</th>\n",
       "      <td>290</td>\n",
       "      <td>Vacant Land - General</td>\n",
       "    </tr>\n",
       "    <tr>\n",
       "      <th>24</th>\n",
       "      <td>291</td>\n",
       "      <td>Residential Vacant Land</td>\n",
       "    </tr>\n",
       "  </tbody>\n",
       "</table>\n",
       "</div>"
      ],
      "text/plain": [
       "    propertylandusetypeid                         propertylandusedesc\n",
       "0                      31    Commercial/Office/Residential Mixed Used\n",
       "1                      46                           Multi-Story Store\n",
       "2                      47                    Store/Office (Mixed Use)\n",
       "3                     246           Duplex (2 Units, Any Combination)\n",
       "4                     247          Triplex (3 Units, Any Combination)\n",
       "5                     248       Quadruplex (4 Units, Any Combination)\n",
       "6                     260                         Residential General\n",
       "7                     261                   Single Family Residential\n",
       "8                     262                             Rural Residence\n",
       "9                     263                                 Mobile Home\n",
       "10                    264                                   Townhouse\n",
       "11                    265                                Cluster Home\n",
       "12                    266                                 Condominium\n",
       "13                    267                                 Cooperative\n",
       "14                    268                                   Row House\n",
       "15                    269                    Planned Unit Development\n",
       "16                    270                     Residential Common Area\n",
       "17                    271                                   Timeshare\n",
       "18                    273                                    Bungalow\n",
       "19                    274                               Zero Lot Line\n",
       "20                    275  Manufactured, Modular, Prefabricated Homes\n",
       "21                    276                                  Patio Home\n",
       "22                    279          Inferred Single Family Residential\n",
       "23                    290                       Vacant Land - General\n",
       "24                    291                     Residential Vacant Land"
      ]
     },
     "execution_count": 3,
     "metadata": {},
     "output_type": "execute_result"
    }
   ],
   "source": [
    "property_type"
   ]
  },
  {
   "cell_type": "code",
   "execution_count": 1,
   "metadata": {},
   "outputs": [
    {
     "data": {
      "text/html": [
       "<div>\n",
       "<style scoped>\n",
       "    .dataframe tbody tr th:only-of-type {\n",
       "        vertical-align: middle;\n",
       "    }\n",
       "\n",
       "    .dataframe tbody tr th {\n",
       "        vertical-align: top;\n",
       "    }\n",
       "\n",
       "    .dataframe thead th {\n",
       "        text-align: right;\n",
       "    }\n",
       "</style>\n",
       "<table border=\"1\" class=\"dataframe\">\n",
       "  <thead>\n",
       "    <tr style=\"text-align: right;\">\n",
       "      <th></th>\n",
       "      <th>taxvaluedollarcnt</th>\n",
       "      <th>bathroomcnt</th>\n",
       "      <th>bedroomcnt</th>\n",
       "      <th>roomcnt</th>\n",
       "      <th>calculatedfinishedsquarefeet</th>\n",
       "      <th>lotsizesquarefeet</th>\n",
       "    </tr>\n",
       "  </thead>\n",
       "  <tbody>\n",
       "    <tr>\n",
       "      <th>count</th>\n",
       "      <td>1.501200e+04</td>\n",
       "      <td>15012.000000</td>\n",
       "      <td>15012.000000</td>\n",
       "      <td>15012.000000</td>\n",
       "      <td>15012.000000</td>\n",
       "      <td>1.491200e+04</td>\n",
       "    </tr>\n",
       "    <tr>\n",
       "      <th>mean</th>\n",
       "      <td>5.413201e+05</td>\n",
       "      <td>2.326139</td>\n",
       "      <td>3.312883</td>\n",
       "      <td>1.912204</td>\n",
       "      <td>1942.043165</td>\n",
       "      <td>1.054833e+04</td>\n",
       "    </tr>\n",
       "    <tr>\n",
       "      <th>std</th>\n",
       "      <td>7.306037e+05</td>\n",
       "      <td>1.021804</td>\n",
       "      <td>0.942607</td>\n",
       "      <td>3.163755</td>\n",
       "      <td>1001.672378</td>\n",
       "      <td>2.938160e+04</td>\n",
       "    </tr>\n",
       "    <tr>\n",
       "      <th>min</th>\n",
       "      <td>1.050400e+04</td>\n",
       "      <td>0.000000</td>\n",
       "      <td>0.000000</td>\n",
       "      <td>0.000000</td>\n",
       "      <td>300.000000</td>\n",
       "      <td>5.940000e+02</td>\n",
       "    </tr>\n",
       "    <tr>\n",
       "      <th>25%</th>\n",
       "      <td>1.986000e+05</td>\n",
       "      <td>2.000000</td>\n",
       "      <td>3.000000</td>\n",
       "      <td>0.000000</td>\n",
       "      <td>1274.750000</td>\n",
       "      <td>5.595750e+03</td>\n",
       "    </tr>\n",
       "    <tr>\n",
       "      <th>50%</th>\n",
       "      <td>3.848850e+05</td>\n",
       "      <td>2.000000</td>\n",
       "      <td>3.000000</td>\n",
       "      <td>0.000000</td>\n",
       "      <td>1679.000000</td>\n",
       "      <td>6.874500e+03</td>\n",
       "    </tr>\n",
       "    <tr>\n",
       "      <th>75%</th>\n",
       "      <td>6.449440e+05</td>\n",
       "      <td>3.000000</td>\n",
       "      <td>4.000000</td>\n",
       "      <td>5.000000</td>\n",
       "      <td>2346.000000</td>\n",
       "      <td>8.880000e+03</td>\n",
       "    </tr>\n",
       "    <tr>\n",
       "      <th>max</th>\n",
       "      <td>2.385837e+07</td>\n",
       "      <td>11.000000</td>\n",
       "      <td>12.000000</td>\n",
       "      <td>14.000000</td>\n",
       "      <td>15450.000000</td>\n",
       "      <td>1.323788e+06</td>\n",
       "    </tr>\n",
       "  </tbody>\n",
       "</table>\n",
       "</div>"
      ],
      "text/plain": [
       "       taxvaluedollarcnt   bathroomcnt    bedroomcnt       roomcnt  \\\n",
       "count       1.501200e+04  15012.000000  15012.000000  15012.000000   \n",
       "mean        5.413201e+05      2.326139      3.312883      1.912204   \n",
       "std         7.306037e+05      1.021804      0.942607      3.163755   \n",
       "min         1.050400e+04      0.000000      0.000000      0.000000   \n",
       "25%         1.986000e+05      2.000000      3.000000      0.000000   \n",
       "50%         3.848850e+05      2.000000      3.000000      0.000000   \n",
       "75%         6.449440e+05      3.000000      4.000000      5.000000   \n",
       "max         2.385837e+07     11.000000     12.000000     14.000000   \n",
       "\n",
       "       calculatedfinishedsquarefeet  lotsizesquarefeet  \n",
       "count                  15012.000000       1.491200e+04  \n",
       "mean                    1942.043165       1.054833e+04  \n",
       "std                     1001.672378       2.938160e+04  \n",
       "min                      300.000000       5.940000e+02  \n",
       "25%                     1274.750000       5.595750e+03  \n",
       "50%                     1679.000000       6.874500e+03  \n",
       "75%                     2346.000000       8.880000e+03  \n",
       "max                    15450.000000       1.323788e+06  "
      ]
     },
     "execution_count": 1,
     "metadata": {},
     "output_type": "execute_result"
    }
   ],
   "source": [
    "import wrangle\n",
    "df = wrangle.get_data_from_mysql()\n",
    "df.describe()"
   ]
  },
  {
   "cell_type": "code",
   "execution_count": 2,
   "metadata": {},
   "outputs": [],
   "source": [
    "new_name = [\"tax\", \"bath\", \"bed\", \"room_cnt\", \"sqft\", \"lot_size\"] \n",
    "df.rename(columns=dict(zip(df.columns, new_name)), inplace = True)"
   ]
  },
  {
   "cell_type": "code",
   "execution_count": 7,
   "metadata": {},
   "outputs": [
    {
     "data": {
      "text/plain": [
       "tax           0\n",
       "bath          0\n",
       "bed           0\n",
       "room_cnt      0\n",
       "sqft          0\n",
       "lot_size    100\n",
       "dtype: int64"
      ]
     },
     "execution_count": 7,
     "metadata": {},
     "output_type": "execute_result"
    }
   ],
   "source": [
    "df.isna().sum()"
   ]
  },
  {
   "cell_type": "code",
   "execution_count": 8,
   "metadata": {},
   "outputs": [
    {
     "name": "stdout",
     "output_type": "stream",
     "text": [
      "<class 'pandas.core.frame.DataFrame'>\n",
      "Int64Index: 14912 entries, 0 to 15011\n",
      "Data columns (total 6 columns):\n",
      "tax         14912 non-null float64\n",
      "bath        14912 non-null float64\n",
      "bed         14912 non-null float64\n",
      "room_cnt    14912 non-null float64\n",
      "sqft        14912 non-null float64\n",
      "lot_size    14912 non-null float64\n",
      "dtypes: float64(6)\n",
      "memory usage: 815.5 KB\n"
     ]
    }
   ],
   "source": [
    "# process na\n",
    "df = df.dropna()\n",
    "df.info()"
   ]
  },
  {
   "cell_type": "code",
   "execution_count": 10,
   "metadata": {},
   "outputs": [
    {
     "data": {
      "text/plain": [
       "<matplotlib.axes._subplots.AxesSubplot at 0x1a16906240>"
      ]
     },
     "execution_count": 10,
     "metadata": {},
     "output_type": "execute_result"
    }
   ],
   "source": [
    "sns.heatmap(df.corr(),cmap='Blues',annot=True)"
   ]
  },
  {
   "cell_type": "code",
   "execution_count": 17,
   "metadata": {},
   "outputs": [],
   "source": []
  },
  {
   "cell_type": "code",
   "execution_count": 13,
   "metadata": {},
   "outputs": [
    {
     "data": {
      "text/html": [
       "<div>\n",
       "<style scoped>\n",
       "    .dataframe tbody tr th:only-of-type {\n",
       "        vertical-align: middle;\n",
       "    }\n",
       "\n",
       "    .dataframe tbody tr th {\n",
       "        vertical-align: top;\n",
       "    }\n",
       "\n",
       "    .dataframe thead th {\n",
       "        text-align: right;\n",
       "    }\n",
       "</style>\n",
       "<table border=\"1\" class=\"dataframe\">\n",
       "  <thead>\n",
       "    <tr style=\"text-align: right;\">\n",
       "      <th></th>\n",
       "      <th>tax</th>\n",
       "      <th>bath</th>\n",
       "      <th>bed</th>\n",
       "      <th>room_cnt</th>\n",
       "      <th>sqft</th>\n",
       "      <th>lot_size</th>\n",
       "    </tr>\n",
       "  </thead>\n",
       "  <tbody>\n",
       "    <tr>\n",
       "      <th>tax</th>\n",
       "      <td>1.000000</td>\n",
       "      <td>0.515989</td>\n",
       "      <td>0.273035</td>\n",
       "      <td>-0.016130</td>\n",
       "      <td>0.602122</td>\n",
       "      <td>0.116279</td>\n",
       "    </tr>\n",
       "    <tr>\n",
       "      <th>bath</th>\n",
       "      <td>0.515989</td>\n",
       "      <td>1.000000</td>\n",
       "      <td>0.645013</td>\n",
       "      <td>0.066954</td>\n",
       "      <td>0.853425</td>\n",
       "      <td>0.138025</td>\n",
       "    </tr>\n",
       "    <tr>\n",
       "      <th>bed</th>\n",
       "      <td>0.273035</td>\n",
       "      <td>0.645013</td>\n",
       "      <td>1.000000</td>\n",
       "      <td>0.162210</td>\n",
       "      <td>0.628734</td>\n",
       "      <td>0.067230</td>\n",
       "    </tr>\n",
       "    <tr>\n",
       "      <th>room_cnt</th>\n",
       "      <td>-0.016130</td>\n",
       "      <td>0.066954</td>\n",
       "      <td>0.162210</td>\n",
       "      <td>1.000000</td>\n",
       "      <td>0.077968</td>\n",
       "      <td>-0.009856</td>\n",
       "    </tr>\n",
       "    <tr>\n",
       "      <th>sqft</th>\n",
       "      <td>0.602122</td>\n",
       "      <td>0.853425</td>\n",
       "      <td>0.628734</td>\n",
       "      <td>0.077968</td>\n",
       "      <td>1.000000</td>\n",
       "      <td>0.182638</td>\n",
       "    </tr>\n",
       "    <tr>\n",
       "      <th>lot_size</th>\n",
       "      <td>0.116279</td>\n",
       "      <td>0.138025</td>\n",
       "      <td>0.067230</td>\n",
       "      <td>-0.009856</td>\n",
       "      <td>0.182638</td>\n",
       "      <td>1.000000</td>\n",
       "    </tr>\n",
       "  </tbody>\n",
       "</table>\n",
       "</div>"
      ],
      "text/plain": [
       "               tax      bath       bed  room_cnt      sqft  lot_size\n",
       "tax       1.000000  0.515989  0.273035 -0.016130  0.602122  0.116279\n",
       "bath      0.515989  1.000000  0.645013  0.066954  0.853425  0.138025\n",
       "bed       0.273035  0.645013  1.000000  0.162210  0.628734  0.067230\n",
       "room_cnt -0.016130  0.066954  0.162210  1.000000  0.077968 -0.009856\n",
       "sqft      0.602122  0.853425  0.628734  0.077968  1.000000  0.182638\n",
       "lot_size  0.116279  0.138025  0.067230 -0.009856  0.182638  1.000000"
      ]
     },
     "execution_count": 13,
     "metadata": {},
     "output_type": "execute_result"
    }
   ],
   "source": [
    "df.corr()"
   ]
  },
  {
   "cell_type": "code",
   "execution_count": 22,
   "metadata": {},
   "outputs": [
    {
     "data": {
      "text/plain": [
       "<matplotlib.axes._subplots.AxesSubplot at 0x1a1959a860>"
      ]
     },
     "execution_count": 22,
     "metadata": {},
     "output_type": "execute_result"
    },
    {
     "data": {
      "image/png": "[encoded data removed]",
      "text/plain": [
       "<Figure size 720x504 with 2 Axes>"
      ]
     },
     "metadata": {
      "needs_background": "light"
     },
     "output_type": "display_data"
    }
   ],
   "source": []
  },
  {
   "cell_type": "code",
   "execution_count": null,
   "metadata": {},
   "outputs": [],
   "source": []
  }
 ],
 "metadata": {
  "kernelspec": {
   "display_name": "Python 3",
   "language": "python",
   "name": "python3"
  },
  "language_info": {
   "codemirror_mode": {
    "name": "ipython",
    "version": 3
   },
   "file_extension": ".py",
   "mimetype": "text/x-python",
   "name": "python",
   "nbconvert_exporter": "python",
   "pygments_lexer": "ipython3",
   "version": "3.7.3"
  },
  "toc": {
   "base_numbering": 1,
   "nav_menu": {},
   "number_sections": true,
   "sideBar": true,
   "skip_h1_title": false,
   "title_cell": "Table of Contents",
   "title_sidebar": "Contents",
   "toc_cell": false,
   "toc_position": {},
   "toc_section_display": true,
   "toc_window_display": false
  },
  "varInspector": {
   "cols": {
    "lenName": 16,
    "lenType": 16,
    "lenVar": 40
   },
   "kernels_config": {
    "python": {
     "delete_cmd_postfix": "",
     "delete_cmd_prefix": "del ",
     "library": "var_list.py",
     "varRefreshCmd": "print(var_dic_list())"
    },
    "r": {
     "delete_cmd_postfix": ") ",
     "delete_cmd_prefix": "rm(",
     "library": "var_list.r",
     "varRefreshCmd": "cat(var_dic_list()) "
    }
   },
   "types_to_exclude": [
    "module",
    "function",
    "builtin_function_or_method",
    "instance",
    "_Feature"
   ],
   "window_display": false
  }
 },
 "nbformat": 4,
 "nbformat_minor": 2
}
