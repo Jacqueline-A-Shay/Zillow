{
 "cells": [
  {
   "cell_type": "markdown",
   "metadata": {},
   "source": [
    "**GOAL** Construct property value prediction model for Zillow Data Science Team\n",
    "\n",
    "Targeted properties:\n",
    "- single unit properties\n",
    "- transactions within May & June in 2017\n",
    "\n",
    "**QUESTION FROM THE DATA TEAM**\n",
    "\n",
    "1. Provide distribution of tax rates for each county\n",
    "\n",
    "\n",
    "2. For prediction model, DS team will first want to understand how these following features of properties relate to properties assessed value, 'taxvaluedollarcnt':\n",
    "\n",
    "> square feet of the home \n",
    ">\n",
    "> number of bedrooms \n",
    ">\n",
    "> number of bathrooms \n",
    "\n",
    "3. Provide better model(s)\n",
    "\n",
    "**OFFICIAL ZILLOW DEFINITION OF HOME TYPES AND HOUSING STOCK**\n",
    "\n",
    "- Defines all homes as single-family, condominium and co-operative homes with a county record. Unless specified, all series cover this segment of the housing stock.\n",
    "\n",
    "- Condo/Co-op: Condominium and co-operative homes.\n",
    "\n",
    "- Multifamily 2+ units: Units in buildings with 5 or more housing units, that are not a condominiums or co-ops.\n",
    "\n",
    "- Duplex/Triplex: Housing units in buildings with 2 or 3 housing units."
   ]
  },
  {
   "cell_type": "code",
   "execution_count": 1,
   "metadata": {},
   "outputs": [],
   "source": [
    "import pandas as pd\n",
    "import numpy as np\n",
    "import env\n",
    "import wrangle\n",
    "import matplotlib.pyplot as plt\n",
    "from matplotlib import gridspec\n",
    "%matplotlib inline\n",
    "import seaborn as sns"
   ]
  },
  {
   "cell_type": "markdown",
   "metadata": {},
   "source": [
    "After the survying \n",
    "\n",
    "- all available house types in database\n",
    "\n",
    "- the amount of data residing in each house type\n",
    "\n",
    "Focus on **single family residential**, which represents the largest subset of data within the requested time range\n",
    "\n",
    "meanwhile, \"single\" family residential represents \"single unit property\" among all property types "
   ]
  },
  {
   "cell_type": "code",
   "execution_count": 2,
   "metadata": {},
   "outputs": [],
   "source": [
    "#select_property = wrangle.get_data_from_mysql()\n",
    "#select_property"
   ]
  },
  {
   "cell_type": "markdown",
   "metadata": {},
   "source": [
    "**DATA ACQUISITION** >> DATA TIDY >> (EXPLORE <=> TRANSFORM) >> MODEL >> DELIVER"
   ]
  },
  {
   "cell_type": "code",
   "execution_count": 2,
   "metadata": {},
   "outputs": [
    {
     "data": {
      "text/html": [
       "<div>\n",
       "<style scoped>\n",
       "    .dataframe tbody tr th:only-of-type {\n",
       "        vertical-align: middle;\n",
       "    }\n",
       "\n",
       "    .dataframe tbody tr th {\n",
       "        vertical-align: top;\n",
       "    }\n",
       "\n",
       "    .dataframe thead th {\n",
       "        text-align: right;\n",
       "    }\n",
       "</style>\n",
       "<table border=\"1\" class=\"dataframe\">\n",
       "  <thead>\n",
       "    <tr style=\"text-align: right;\">\n",
       "      <th></th>\n",
       "      <th>id</th>\n",
       "      <th>parcelid</th>\n",
       "      <th>airconditioningtypeid</th>\n",
       "      <th>architecturalstyletypeid</th>\n",
       "      <th>basementsqft</th>\n",
       "      <th>bathroomcnt</th>\n",
       "      <th>bedroomcnt</th>\n",
       "      <th>buildingclasstypeid</th>\n",
       "      <th>buildingqualitytypeid</th>\n",
       "      <th>calculatedbathnbr</th>\n",
       "      <th>...</th>\n",
       "      <th>numberofstories</th>\n",
       "      <th>fireplaceflag</th>\n",
       "      <th>structuretaxvaluedollarcnt</th>\n",
       "      <th>taxvaluedollarcnt</th>\n",
       "      <th>assessmentyear</th>\n",
       "      <th>landtaxvaluedollarcnt</th>\n",
       "      <th>taxamount</th>\n",
       "      <th>taxdelinquencyflag</th>\n",
       "      <th>taxdelinquencyyear</th>\n",
       "      <th>censustractandblock</th>\n",
       "    </tr>\n",
       "  </thead>\n",
       "  <tbody>\n",
       "    <tr>\n",
       "      <th>0</th>\n",
       "      <td>2061546</td>\n",
       "      <td>11289917</td>\n",
       "      <td>1.0</td>\n",
       "      <td>NaN</td>\n",
       "      <td>NaN</td>\n",
       "      <td>2.0</td>\n",
       "      <td>3.0</td>\n",
       "      <td>None</td>\n",
       "      <td>6.0</td>\n",
       "      <td>2.0</td>\n",
       "      <td>...</td>\n",
       "      <td>NaN</td>\n",
       "      <td>NaN</td>\n",
       "      <td>108890.0</td>\n",
       "      <td>136104.0</td>\n",
       "      <td>2016.0</td>\n",
       "      <td>27214.0</td>\n",
       "      <td>2319.90</td>\n",
       "      <td>Y</td>\n",
       "      <td>15.0</td>\n",
       "      <td>6.037901e+13</td>\n",
       "    </tr>\n",
       "    <tr>\n",
       "      <th>1</th>\n",
       "      <td>1834372</td>\n",
       "      <td>11705026</td>\n",
       "      <td>NaN</td>\n",
       "      <td>NaN</td>\n",
       "      <td>NaN</td>\n",
       "      <td>1.0</td>\n",
       "      <td>2.0</td>\n",
       "      <td>None</td>\n",
       "      <td>6.0</td>\n",
       "      <td>1.0</td>\n",
       "      <td>...</td>\n",
       "      <td>NaN</td>\n",
       "      <td>NaN</td>\n",
       "      <td>11982.0</td>\n",
       "      <td>35606.0</td>\n",
       "      <td>2016.0</td>\n",
       "      <td>23624.0</td>\n",
       "      <td>543.69</td>\n",
       "      <td>None</td>\n",
       "      <td>NaN</td>\n",
       "      <td>6.037232e+13</td>\n",
       "    </tr>\n",
       "    <tr>\n",
       "      <th>2</th>\n",
       "      <td>1923117</td>\n",
       "      <td>14269464</td>\n",
       "      <td>NaN</td>\n",
       "      <td>NaN</td>\n",
       "      <td>NaN</td>\n",
       "      <td>3.0</td>\n",
       "      <td>4.0</td>\n",
       "      <td>None</td>\n",
       "      <td>NaN</td>\n",
       "      <td>3.0</td>\n",
       "      <td>...</td>\n",
       "      <td>NaN</td>\n",
       "      <td>NaN</td>\n",
       "      <td>434887.0</td>\n",
       "      <td>880456.0</td>\n",
       "      <td>2016.0</td>\n",
       "      <td>445569.0</td>\n",
       "      <td>9819.72</td>\n",
       "      <td>None</td>\n",
       "      <td>NaN</td>\n",
       "      <td>6.059064e+13</td>\n",
       "    </tr>\n",
       "    <tr>\n",
       "      <th>3</th>\n",
       "      <td>2121349</td>\n",
       "      <td>11389003</td>\n",
       "      <td>NaN</td>\n",
       "      <td>NaN</td>\n",
       "      <td>NaN</td>\n",
       "      <td>2.0</td>\n",
       "      <td>3.0</td>\n",
       "      <td>None</td>\n",
       "      <td>6.0</td>\n",
       "      <td>2.0</td>\n",
       "      <td>...</td>\n",
       "      <td>NaN</td>\n",
       "      <td>NaN</td>\n",
       "      <td>165000.0</td>\n",
       "      <td>614000.0</td>\n",
       "      <td>2016.0</td>\n",
       "      <td>449000.0</td>\n",
       "      <td>7673.19</td>\n",
       "      <td>None</td>\n",
       "      <td>NaN</td>\n",
       "      <td>6.037703e+13</td>\n",
       "    </tr>\n",
       "    <tr>\n",
       "      <th>4</th>\n",
       "      <td>2093710</td>\n",
       "      <td>11967869</td>\n",
       "      <td>NaN</td>\n",
       "      <td>NaN</td>\n",
       "      <td>NaN</td>\n",
       "      <td>1.0</td>\n",
       "      <td>2.0</td>\n",
       "      <td>None</td>\n",
       "      <td>5.0</td>\n",
       "      <td>1.0</td>\n",
       "      <td>...</td>\n",
       "      <td>NaN</td>\n",
       "      <td>NaN</td>\n",
       "      <td>82416.0</td>\n",
       "      <td>274237.0</td>\n",
       "      <td>2016.0</td>\n",
       "      <td>191821.0</td>\n",
       "      <td>3267.47</td>\n",
       "      <td>None</td>\n",
       "      <td>NaN</td>\n",
       "      <td>6.037185e+13</td>\n",
       "    </tr>\n",
       "  </tbody>\n",
       "</table>\n",
       "<p>5 rows × 59 columns</p>\n",
       "</div>"
      ],
      "text/plain": [
       "        id  parcelid  airconditioningtypeid  architecturalstyletypeid  \\\n",
       "0  2061546  11289917                    1.0                       NaN   \n",
       "1  1834372  11705026                    NaN                       NaN   \n",
       "2  1923117  14269464                    NaN                       NaN   \n",
       "3  2121349  11389003                    NaN                       NaN   \n",
       "4  2093710  11967869                    NaN                       NaN   \n",
       "\n",
       "   basementsqft  bathroomcnt  bedroomcnt buildingclasstypeid  \\\n",
       "0           NaN          2.0         3.0                None   \n",
       "1           NaN          1.0         2.0                None   \n",
       "2           NaN          3.0         4.0                None   \n",
       "3           NaN          2.0         3.0                None   \n",
       "4           NaN          1.0         2.0                None   \n",
       "\n",
       "   buildingqualitytypeid  calculatedbathnbr  ...  numberofstories  \\\n",
       "0                    6.0                2.0  ...              NaN   \n",
       "1                    6.0                1.0  ...              NaN   \n",
       "2                    NaN                3.0  ...              NaN   \n",
       "3                    6.0                2.0  ...              NaN   \n",
       "4                    5.0                1.0  ...              NaN   \n",
       "\n",
       "   fireplaceflag  structuretaxvaluedollarcnt  taxvaluedollarcnt  \\\n",
       "0            NaN                    108890.0           136104.0   \n",
       "1            NaN                     11982.0            35606.0   \n",
       "2            NaN                    434887.0           880456.0   \n",
       "3            NaN                    165000.0           614000.0   \n",
       "4            NaN                     82416.0           274237.0   \n",
       "\n",
       "  assessmentyear landtaxvaluedollarcnt  taxamount  taxdelinquencyflag  \\\n",
       "0         2016.0               27214.0    2319.90                   Y   \n",
       "1         2016.0               23624.0     543.69                None   \n",
       "2         2016.0              445569.0    9819.72                None   \n",
       "3         2016.0              449000.0    7673.19                None   \n",
       "4         2016.0              191821.0    3267.47                None   \n",
       "\n",
       "   taxdelinquencyyear  censustractandblock  \n",
       "0                15.0         6.037901e+13  \n",
       "1                 NaN         6.037232e+13  \n",
       "2                 NaN         6.059064e+13  \n",
       "3                 NaN         6.037703e+13  \n",
       "4                 NaN         6.037185e+13  \n",
       "\n",
       "[5 rows x 59 columns]"
      ]
     },
     "execution_count": 2,
     "metadata": {},
     "output_type": "execute_result"
    }
   ],
   "source": [
    "# import data for initial data exploration and evaluation\n",
    "df = wrangle.get_data_from_mysql()\n",
    "df.head(5)"
   ]
  },
  {
   "cell_type": "code",
   "execution_count": 4,
   "metadata": {},
   "outputs": [
    {
     "name": "stdout",
     "output_type": "stream",
     "text": [
      "<class 'pandas.core.frame.DataFrame'>\n",
      "RangeIndex: 15012 entries, 0 to 15011\n",
      "Data columns (total 59 columns):\n",
      "id                              15012 non-null int64\n",
      "parcelid                        15012 non-null int64\n",
      "airconditioningtypeid           3982 non-null float64\n",
      "architecturalstyletypeid        15 non-null float64\n",
      "basementsqft                    11 non-null float64\n",
      "bathroomcnt                     15012 non-null float64\n",
      "bedroomcnt                      15012 non-null float64\n",
      "buildingclasstypeid             0 non-null object\n",
      "buildingqualitytypeid           9572 non-null float64\n",
      "calculatedbathnbr               14990 non-null float64\n",
      "decktypeid                      107 non-null float64\n",
      "finishedfloor1squarefeet        1295 non-null float64\n",
      "calculatedfinishedsquarefeet    15012 non-null float64\n",
      "finishedsquarefeet12            14969 non-null float64\n",
      "finishedsquarefeet13            0 non-null object\n",
      "finishedsquarefeet15            0 non-null object\n",
      "finishedsquarefeet50            1295 non-null float64\n",
      "finishedsquarefeet6             43 non-null float64\n",
      "fips                            15012 non-null float64\n",
      "fireplacecnt                    2122 non-null float64\n",
      "fullbathcnt                     14990 non-null float64\n",
      "garagecarcnt                    5265 non-null float64\n",
      "garagetotalsqft                 5265 non-null float64\n",
      "hashottuborspa                  476 non-null float64\n",
      "heatingorsystemtypeid           9640 non-null float64\n",
      "latitude                        15012 non-null float64\n",
      "longitude                       15012 non-null float64\n",
      "lotsizesquarefeet               14912 non-null float64\n",
      "poolcnt                         3290 non-null float64\n",
      "poolsizesum                     267 non-null float64\n",
      "pooltypeid10                    134 non-null float64\n",
      "pooltypeid2                     342 non-null float64\n",
      "pooltypeid7                     2947 non-null float64\n",
      "propertycountylandusecode       15012 non-null object\n",
      "propertylandusetypeid           15012 non-null float64\n",
      "propertyzoningdesc              9603 non-null object\n",
      "rawcensustractandblock          15012 non-null float64\n",
      "regionidcity                    14721 non-null float64\n",
      "regionidcounty                  15012 non-null float64\n",
      "regionidneighborhood            5497 non-null float64\n",
      "regionidzip                     15004 non-null float64\n",
      "roomcnt                         15012 non-null float64\n",
      "storytypeid                     11 non-null float64\n",
      "threequarterbathnbr             2009 non-null float64\n",
      "typeconstructiontypeid          16 non-null float64\n",
      "unitcnt                         9603 non-null float64\n",
      "yardbuildingsqft17              589 non-null float64\n",
      "yardbuildingsqft26              22 non-null float64\n",
      "yearbuilt                       14993 non-null float64\n",
      "numberofstories                 4194 non-null float64\n",
      "fireplaceflag                   22 non-null float64\n",
      "structuretaxvaluedollarcnt      14991 non-null float64\n",
      "taxvaluedollarcnt               15012 non-null float64\n",
      "assessmentyear                  15012 non-null float64\n",
      "landtaxvaluedollarcnt           15012 non-null float64\n",
      "taxamount                       15011 non-null float64\n",
      "taxdelinquencyflag              527 non-null object\n",
      "taxdelinquencyyear              527 non-null float64\n",
      "censustractandblock             14968 non-null float64\n",
      "dtypes: float64(51), int64(2), object(6)\n",
      "memory usage: 6.8+ MB\n"
     ]
    }
   ],
   "source": [
    "# preview all columns, \n",
    "df.info()"
   ]
  },
  {
   "cell_type": "markdown",
   "metadata": {},
   "source": [
    "DATA ACQUISITION >> **DATA TIDY** >> (EXPLORE <=> TRANSFORM) >> MODEL >> DELIVER\n",
    "\n",
    "\n",
    "From the observations, most of the rows have about 30 missing values. For the observations that have 57 missing values, it means that most of the features are missing and we choose to remove those. We will add in values to those missing where appropriate, below."
   ]
  },
  {
   "cell_type": "code",
   "execution_count": 5,
   "metadata": {},
   "outputs": [
    {
     "data": {
      "text/plain": [
       "0"
      ]
     },
     "execution_count": 5,
     "metadata": {},
     "output_type": "execute_result"
    }
   ],
   "source": [
    "# each property has a id, no id is repeated\n",
    "df['parcelid'].isnull().sum()"
   ]
  },
  {
   "cell_type": "code",
   "execution_count": 6,
   "metadata": {},
   "outputs": [
    {
     "data": {
      "text/plain": [
       "15006"
      ]
     },
     "execution_count": 6,
     "metadata": {},
     "output_type": "execute_result"
    }
   ],
   "source": [
    "# id IS unique\n",
    "df['parcelid'].nunique()"
   ]
  },
  {
   "cell_type": "code",
   "execution_count": 7,
   "metadata": {},
   "outputs": [
    {
     "name": "stdout",
     "output_type": "stream",
     "text": [
      "count    15012.000000\n",
      "mean        27.796363\n",
      "std          1.628073\n",
      "min         20.000000\n",
      "25%         27.000000\n",
      "50%         28.000000\n",
      "75%         29.000000\n",
      "max         35.000000\n",
      "dtype: float64\n"
     ]
    },
    {
     "data": {
      "image/png": "[encoded data removed]",
      "text/plain": [
       "<Figure size 720x504 with 1 Axes>"
      ]
     },
     "metadata": {
      "needs_background": "light"
     },
     "output_type": "display_data"
    }
   ],
   "source": [
    "# Observe distribution of missing data across each row\n",
    "# total number of columns (id excluded) is 57\n",
    "\n",
    "# conclude: \n",
    "# no property is missing all data categories/ column\n",
    "# on average, 28 data types were missing from each row\n",
    "number_missing_per_row = df.isnull().sum(axis=1)\n",
    "print(number_missing_per_row.describe())\n",
    "\n",
    "plt.rcParams['figure.figsize'] = [10, 7]\n",
    "number_missing_per_row = df.isnull().sum(axis=1)\n",
    "sns.distplot(number_missing_per_row, color=\"#34495e\", kde=False);\n",
    "plt.title('Distribution of Missing Values', fontsize=15)\n",
    "plt.xlabel('Number of Missing Values', fontsize=15)\n",
    "plt.ylabel('Number of Rows', fontsize=15);"
   ]
  },
  {
   "cell_type": "code",
   "execution_count": 3,
   "metadata": {},
   "outputs": [
    {
     "name": "stdout",
     "output_type": "stream",
     "text": [
      "count    59.000000\n",
      "mean      0.471125\n",
      "std       0.449764\n",
      "min       0.000000\n",
      "25%       0.000000\n",
      "50%       0.362377\n",
      "75%       0.966593\n",
      "max       1.000000\n",
      "Name: Percent_Missing, dtype: float64\n"
     ]
    }
   ],
   "source": [
    "# Observe distribution of missing data across each data type/ column\n",
    "missing_values = df.isnull().sum().reset_index()\n",
    "missing_values.columns = ['Column_Name', 'Number_Missing_Values']\n",
    "missing_values['Percent_Missing'] = missing_values['Number_Missing_Values'] / len(df)\n",
    "print(missing_values.Percent_Missing.describe())"
   ]
  },
  {
   "cell_type": "code",
   "execution_count": 4,
   "metadata": {},
   "outputs": [
    {
     "name": "stdout",
     "output_type": "stream",
     "text": [
      "Percent of Columns not appropriate to be included as modeling variable 0.56\n"
     ]
    }
   ],
   "source": [
    "# proportion of columns with less than 70% of missing data\n",
    "\n",
    "missing_col = (missing_values.Percent_Missing < 0.70).sum() / len(missing_values)\n",
    "missing_col\n",
    "\n",
    "print(\"Percent of Columns not appropriate to be included as modeling variable {:.2f}\"\\\n",
    "     .format(missing_col))"
   ]
  },
  {
   "cell_type": "code",
   "execution_count": 10,
   "metadata": {},
   "outputs": [
    {
     "data": {
      "text/html": [
       "<div>\n",
       "<style scoped>\n",
       "    .dataframe tbody tr th:only-of-type {\n",
       "        vertical-align: middle;\n",
       "    }\n",
       "\n",
       "    .dataframe tbody tr th {\n",
       "        vertical-align: top;\n",
       "    }\n",
       "\n",
       "    .dataframe thead th {\n",
       "        text-align: right;\n",
       "    }\n",
       "</style>\n",
       "<table border=\"1\" class=\"dataframe\">\n",
       "  <thead>\n",
       "    <tr style=\"text-align: right;\">\n",
       "      <th></th>\n",
       "      <th>Column_Name</th>\n",
       "      <th>Number_Missing_Values</th>\n",
       "      <th>Percent_Missing</th>\n",
       "    </tr>\n",
       "  </thead>\n",
       "  <tbody>\n",
       "    <tr>\n",
       "      <th>0</th>\n",
       "      <td>id</td>\n",
       "      <td>0</td>\n",
       "      <td>0.000000</td>\n",
       "    </tr>\n",
       "    <tr>\n",
       "      <th>1</th>\n",
       "      <td>parcelid</td>\n",
       "      <td>0</td>\n",
       "      <td>0.000000</td>\n",
       "    </tr>\n",
       "    <tr>\n",
       "      <th>5</th>\n",
       "      <td>bathroomcnt</td>\n",
       "      <td>0</td>\n",
       "      <td>0.000000</td>\n",
       "    </tr>\n",
       "    <tr>\n",
       "      <th>6</th>\n",
       "      <td>bedroomcnt</td>\n",
       "      <td>0</td>\n",
       "      <td>0.000000</td>\n",
       "    </tr>\n",
       "    <tr>\n",
       "      <th>8</th>\n",
       "      <td>buildingqualitytypeid</td>\n",
       "      <td>5440</td>\n",
       "      <td>0.362377</td>\n",
       "    </tr>\n",
       "    <tr>\n",
       "      <th>9</th>\n",
       "      <td>calculatedbathnbr</td>\n",
       "      <td>22</td>\n",
       "      <td>0.001465</td>\n",
       "    </tr>\n",
       "    <tr>\n",
       "      <th>12</th>\n",
       "      <td>calculatedfinishedsquarefeet</td>\n",
       "      <td>0</td>\n",
       "      <td>0.000000</td>\n",
       "    </tr>\n",
       "    <tr>\n",
       "      <th>13</th>\n",
       "      <td>finishedsquarefeet12</td>\n",
       "      <td>43</td>\n",
       "      <td>0.002864</td>\n",
       "    </tr>\n",
       "    <tr>\n",
       "      <th>18</th>\n",
       "      <td>fips</td>\n",
       "      <td>0</td>\n",
       "      <td>0.000000</td>\n",
       "    </tr>\n",
       "    <tr>\n",
       "      <th>20</th>\n",
       "      <td>fullbathcnt</td>\n",
       "      <td>22</td>\n",
       "      <td>0.001465</td>\n",
       "    </tr>\n",
       "    <tr>\n",
       "      <th>21</th>\n",
       "      <td>garagecarcnt</td>\n",
       "      <td>9747</td>\n",
       "      <td>0.649281</td>\n",
       "    </tr>\n",
       "    <tr>\n",
       "      <th>22</th>\n",
       "      <td>garagetotalsqft</td>\n",
       "      <td>9747</td>\n",
       "      <td>0.649281</td>\n",
       "    </tr>\n",
       "    <tr>\n",
       "      <th>24</th>\n",
       "      <td>heatingorsystemtypeid</td>\n",
       "      <td>5372</td>\n",
       "      <td>0.357847</td>\n",
       "    </tr>\n",
       "    <tr>\n",
       "      <th>25</th>\n",
       "      <td>latitude</td>\n",
       "      <td>0</td>\n",
       "      <td>0.000000</td>\n",
       "    </tr>\n",
       "    <tr>\n",
       "      <th>26</th>\n",
       "      <td>longitude</td>\n",
       "      <td>0</td>\n",
       "      <td>0.000000</td>\n",
       "    </tr>\n",
       "    <tr>\n",
       "      <th>27</th>\n",
       "      <td>lotsizesquarefeet</td>\n",
       "      <td>100</td>\n",
       "      <td>0.006661</td>\n",
       "    </tr>\n",
       "    <tr>\n",
       "      <th>33</th>\n",
       "      <td>propertycountylandusecode</td>\n",
       "      <td>0</td>\n",
       "      <td>0.000000</td>\n",
       "    </tr>\n",
       "    <tr>\n",
       "      <th>34</th>\n",
       "      <td>propertylandusetypeid</td>\n",
       "      <td>0</td>\n",
       "      <td>0.000000</td>\n",
       "    </tr>\n",
       "    <tr>\n",
       "      <th>35</th>\n",
       "      <td>propertyzoningdesc</td>\n",
       "      <td>5409</td>\n",
       "      <td>0.360312</td>\n",
       "    </tr>\n",
       "    <tr>\n",
       "      <th>36</th>\n",
       "      <td>rawcensustractandblock</td>\n",
       "      <td>0</td>\n",
       "      <td>0.000000</td>\n",
       "    </tr>\n",
       "    <tr>\n",
       "      <th>37</th>\n",
       "      <td>regionidcity</td>\n",
       "      <td>291</td>\n",
       "      <td>0.019384</td>\n",
       "    </tr>\n",
       "    <tr>\n",
       "      <th>38</th>\n",
       "      <td>regionidcounty</td>\n",
       "      <td>0</td>\n",
       "      <td>0.000000</td>\n",
       "    </tr>\n",
       "    <tr>\n",
       "      <th>39</th>\n",
       "      <td>regionidneighborhood</td>\n",
       "      <td>9515</td>\n",
       "      <td>0.633826</td>\n",
       "    </tr>\n",
       "    <tr>\n",
       "      <th>40</th>\n",
       "      <td>regionidzip</td>\n",
       "      <td>8</td>\n",
       "      <td>0.000533</td>\n",
       "    </tr>\n",
       "    <tr>\n",
       "      <th>41</th>\n",
       "      <td>roomcnt</td>\n",
       "      <td>0</td>\n",
       "      <td>0.000000</td>\n",
       "    </tr>\n",
       "    <tr>\n",
       "      <th>45</th>\n",
       "      <td>unitcnt</td>\n",
       "      <td>5409</td>\n",
       "      <td>0.360312</td>\n",
       "    </tr>\n",
       "    <tr>\n",
       "      <th>48</th>\n",
       "      <td>yearbuilt</td>\n",
       "      <td>19</td>\n",
       "      <td>0.001266</td>\n",
       "    </tr>\n",
       "    <tr>\n",
       "      <th>51</th>\n",
       "      <td>structuretaxvaluedollarcnt</td>\n",
       "      <td>21</td>\n",
       "      <td>0.001399</td>\n",
       "    </tr>\n",
       "    <tr>\n",
       "      <th>52</th>\n",
       "      <td>taxvaluedollarcnt</td>\n",
       "      <td>0</td>\n",
       "      <td>0.000000</td>\n",
       "    </tr>\n",
       "    <tr>\n",
       "      <th>53</th>\n",
       "      <td>assessmentyear</td>\n",
       "      <td>0</td>\n",
       "      <td>0.000000</td>\n",
       "    </tr>\n",
       "    <tr>\n",
       "      <th>54</th>\n",
       "      <td>landtaxvaluedollarcnt</td>\n",
       "      <td>0</td>\n",
       "      <td>0.000000</td>\n",
       "    </tr>\n",
       "    <tr>\n",
       "      <th>55</th>\n",
       "      <td>taxamount</td>\n",
       "      <td>1</td>\n",
       "      <td>0.000067</td>\n",
       "    </tr>\n",
       "    <tr>\n",
       "      <th>58</th>\n",
       "      <td>censustractandblock</td>\n",
       "      <td>44</td>\n",
       "      <td>0.002931</td>\n",
       "    </tr>\n",
       "  </tbody>\n",
       "</table>\n",
       "</div>"
      ],
      "text/plain": [
       "                     Column_Name  Number_Missing_Values  Percent_Missing\n",
       "0                             id                      0         0.000000\n",
       "1                       parcelid                      0         0.000000\n",
       "5                    bathroomcnt                      0         0.000000\n",
       "6                     bedroomcnt                      0         0.000000\n",
       "8          buildingqualitytypeid                   5440         0.362377\n",
       "9              calculatedbathnbr                     22         0.001465\n",
       "12  calculatedfinishedsquarefeet                      0         0.000000\n",
       "13          finishedsquarefeet12                     43         0.002864\n",
       "18                          fips                      0         0.000000\n",
       "20                   fullbathcnt                     22         0.001465\n",
       "21                  garagecarcnt                   9747         0.649281\n",
       "22               garagetotalsqft                   9747         0.649281\n",
       "24         heatingorsystemtypeid                   5372         0.357847\n",
       "25                      latitude                      0         0.000000\n",
       "26                     longitude                      0         0.000000\n",
       "27             lotsizesquarefeet                    100         0.006661\n",
       "33     propertycountylandusecode                      0         0.000000\n",
       "34         propertylandusetypeid                      0         0.000000\n",
       "35            propertyzoningdesc                   5409         0.360312\n",
       "36        rawcensustractandblock                      0         0.000000\n",
       "37                  regionidcity                    291         0.019384\n",
       "38                regionidcounty                      0         0.000000\n",
       "39          regionidneighborhood                   9515         0.633826\n",
       "40                   regionidzip                      8         0.000533\n",
       "41                       roomcnt                      0         0.000000\n",
       "45                       unitcnt                   5409         0.360312\n",
       "48                     yearbuilt                     19         0.001266\n",
       "51    structuretaxvaluedollarcnt                     21         0.001399\n",
       "52             taxvaluedollarcnt                      0         0.000000\n",
       "53                assessmentyear                      0         0.000000\n",
       "54         landtaxvaluedollarcnt                      0         0.000000\n",
       "55                     taxamount                      1         0.000067\n",
       "58           censustractandblock                     44         0.002931"
      ]
     },
     "execution_count": 10,
     "metadata": {},
     "output_type": "execute_result"
    }
   ],
   "source": [
    "# The dataset contains good amount of columns being empty\n",
    "# which might not be worthwhile to include for further analysis\n",
    "# The following table contains columns with less than 70% of missing data\n",
    "miss = missing_values[missing_values.Percent_Missing < 0.7]\n",
    "miss"
   ]
  },
  {
   "cell_type": "code",
   "execution_count": 5,
   "metadata": {},
   "outputs": [
    {
     "data": {
      "text/html": [
       "<div>\n",
       "<style scoped>\n",
       "    .dataframe tbody tr th:only-of-type {\n",
       "        vertical-align: middle;\n",
       "    }\n",
       "\n",
       "    .dataframe tbody tr th {\n",
       "        vertical-align: top;\n",
       "    }\n",
       "\n",
       "    .dataframe thead th {\n",
       "        text-align: right;\n",
       "    }\n",
       "</style>\n",
       "<table border=\"1\" class=\"dataframe\">\n",
       "  <thead>\n",
       "    <tr style=\"text-align: right;\">\n",
       "      <th></th>\n",
       "      <th>bathroomcnt</th>\n",
       "      <th>bedroomcnt</th>\n",
       "      <th>buildingqualitytypeid</th>\n",
       "      <th>calculatedbathnbr</th>\n",
       "      <th>calculatedfinishedsquarefeet</th>\n",
       "      <th>finishedsquarefeet12</th>\n",
       "      <th>fips</th>\n",
       "      <th>fullbathcnt</th>\n",
       "      <th>garagecarcnt</th>\n",
       "      <th>garagetotalsqft</th>\n",
       "      <th>...</th>\n",
       "      <th>regionidzip</th>\n",
       "      <th>roomcnt</th>\n",
       "      <th>unitcnt</th>\n",
       "      <th>yearbuilt</th>\n",
       "      <th>structuretaxvaluedollarcnt</th>\n",
       "      <th>taxvaluedollarcnt</th>\n",
       "      <th>assessmentyear</th>\n",
       "      <th>landtaxvaluedollarcnt</th>\n",
       "      <th>taxamount</th>\n",
       "      <th>censustractandblock</th>\n",
       "    </tr>\n",
       "    <tr>\n",
       "      <th>parcelid</th>\n",
       "      <th></th>\n",
       "      <th></th>\n",
       "      <th></th>\n",
       "      <th></th>\n",
       "      <th></th>\n",
       "      <th></th>\n",
       "      <th></th>\n",
       "      <th></th>\n",
       "      <th></th>\n",
       "      <th></th>\n",
       "      <th></th>\n",
       "      <th></th>\n",
       "      <th></th>\n",
       "      <th></th>\n",
       "      <th></th>\n",
       "      <th></th>\n",
       "      <th></th>\n",
       "      <th></th>\n",
       "      <th></th>\n",
       "      <th></th>\n",
       "      <th></th>\n",
       "    </tr>\n",
       "  </thead>\n",
       "  <tbody>\n",
       "    <tr>\n",
       "      <th>11289917</th>\n",
       "      <td>2.0</td>\n",
       "      <td>3.0</td>\n",
       "      <td>6.0</td>\n",
       "      <td>2.0</td>\n",
       "      <td>1458.0</td>\n",
       "      <td>1458.0</td>\n",
       "      <td>6037.0</td>\n",
       "      <td>2.0</td>\n",
       "      <td>NaN</td>\n",
       "      <td>NaN</td>\n",
       "      <td>...</td>\n",
       "      <td>97318.0</td>\n",
       "      <td>0.0</td>\n",
       "      <td>1.0</td>\n",
       "      <td>1970.0</td>\n",
       "      <td>108890.0</td>\n",
       "      <td>136104.0</td>\n",
       "      <td>2016.0</td>\n",
       "      <td>27214.0</td>\n",
       "      <td>2319.90</td>\n",
       "      <td>6.037901e+13</td>\n",
       "    </tr>\n",
       "    <tr>\n",
       "      <th>11705026</th>\n",
       "      <td>1.0</td>\n",
       "      <td>2.0</td>\n",
       "      <td>6.0</td>\n",
       "      <td>1.0</td>\n",
       "      <td>1421.0</td>\n",
       "      <td>1421.0</td>\n",
       "      <td>6037.0</td>\n",
       "      <td>1.0</td>\n",
       "      <td>NaN</td>\n",
       "      <td>NaN</td>\n",
       "      <td>...</td>\n",
       "      <td>96018.0</td>\n",
       "      <td>0.0</td>\n",
       "      <td>1.0</td>\n",
       "      <td>1911.0</td>\n",
       "      <td>11982.0</td>\n",
       "      <td>35606.0</td>\n",
       "      <td>2016.0</td>\n",
       "      <td>23624.0</td>\n",
       "      <td>543.69</td>\n",
       "      <td>6.037232e+13</td>\n",
       "    </tr>\n",
       "    <tr>\n",
       "      <th>14269464</th>\n",
       "      <td>3.0</td>\n",
       "      <td>4.0</td>\n",
       "      <td>NaN</td>\n",
       "      <td>3.0</td>\n",
       "      <td>2541.0</td>\n",
       "      <td>2541.0</td>\n",
       "      <td>6059.0</td>\n",
       "      <td>3.0</td>\n",
       "      <td>2.0</td>\n",
       "      <td>426.0</td>\n",
       "      <td>...</td>\n",
       "      <td>96958.0</td>\n",
       "      <td>0.0</td>\n",
       "      <td>NaN</td>\n",
       "      <td>2003.0</td>\n",
       "      <td>434887.0</td>\n",
       "      <td>880456.0</td>\n",
       "      <td>2016.0</td>\n",
       "      <td>445569.0</td>\n",
       "      <td>9819.72</td>\n",
       "      <td>6.059064e+13</td>\n",
       "    </tr>\n",
       "    <tr>\n",
       "      <th>11389003</th>\n",
       "      <td>2.0</td>\n",
       "      <td>3.0</td>\n",
       "      <td>6.0</td>\n",
       "      <td>2.0</td>\n",
       "      <td>1650.0</td>\n",
       "      <td>1650.0</td>\n",
       "      <td>6037.0</td>\n",
       "      <td>2.0</td>\n",
       "      <td>NaN</td>\n",
       "      <td>NaN</td>\n",
       "      <td>...</td>\n",
       "      <td>96037.0</td>\n",
       "      <td>0.0</td>\n",
       "      <td>1.0</td>\n",
       "      <td>1949.0</td>\n",
       "      <td>165000.0</td>\n",
       "      <td>614000.0</td>\n",
       "      <td>2016.0</td>\n",
       "      <td>449000.0</td>\n",
       "      <td>7673.19</td>\n",
       "      <td>6.037703e+13</td>\n",
       "    </tr>\n",
       "    <tr>\n",
       "      <th>11967869</th>\n",
       "      <td>1.0</td>\n",
       "      <td>2.0</td>\n",
       "      <td>5.0</td>\n",
       "      <td>1.0</td>\n",
       "      <td>693.0</td>\n",
       "      <td>693.0</td>\n",
       "      <td>6037.0</td>\n",
       "      <td>1.0</td>\n",
       "      <td>NaN</td>\n",
       "      <td>NaN</td>\n",
       "      <td>...</td>\n",
       "      <td>96023.0</td>\n",
       "      <td>0.0</td>\n",
       "      <td>1.0</td>\n",
       "      <td>1921.0</td>\n",
       "      <td>82416.0</td>\n",
       "      <td>274237.0</td>\n",
       "      <td>2016.0</td>\n",
       "      <td>191821.0</td>\n",
       "      <td>3267.47</td>\n",
       "      <td>6.037185e+13</td>\n",
       "    </tr>\n",
       "  </tbody>\n",
       "</table>\n",
       "<p>5 rows × 31 columns</p>\n",
       "</div>"
      ],
      "text/plain": [
       "          bathroomcnt  bedroomcnt  buildingqualitytypeid  calculatedbathnbr  \\\n",
       "parcelid                                                                      \n",
       "11289917          2.0         3.0                    6.0                2.0   \n",
       "11705026          1.0         2.0                    6.0                1.0   \n",
       "14269464          3.0         4.0                    NaN                3.0   \n",
       "11389003          2.0         3.0                    6.0                2.0   \n",
       "11967869          1.0         2.0                    5.0                1.0   \n",
       "\n",
       "          calculatedfinishedsquarefeet  finishedsquarefeet12    fips  \\\n",
       "parcelid                                                               \n",
       "11289917                        1458.0                1458.0  6037.0   \n",
       "11705026                        1421.0                1421.0  6037.0   \n",
       "14269464                        2541.0                2541.0  6059.0   \n",
       "11389003                        1650.0                1650.0  6037.0   \n",
       "11967869                         693.0                 693.0  6037.0   \n",
       "\n",
       "          fullbathcnt  garagecarcnt  garagetotalsqft  ...  regionidzip  \\\n",
       "parcelid                                              ...                \n",
       "11289917          2.0           NaN              NaN  ...      97318.0   \n",
       "11705026          1.0           NaN              NaN  ...      96018.0   \n",
       "14269464          3.0           2.0            426.0  ...      96958.0   \n",
       "11389003          2.0           NaN              NaN  ...      96037.0   \n",
       "11967869          1.0           NaN              NaN  ...      96023.0   \n",
       "\n",
       "          roomcnt  unitcnt  yearbuilt structuretaxvaluedollarcnt  \\\n",
       "parcelid                                                           \n",
       "11289917      0.0      1.0     1970.0                   108890.0   \n",
       "11705026      0.0      1.0     1911.0                    11982.0   \n",
       "14269464      0.0      NaN     2003.0                   434887.0   \n",
       "11389003      0.0      1.0     1949.0                   165000.0   \n",
       "11967869      0.0      1.0     1921.0                    82416.0   \n",
       "\n",
       "          taxvaluedollarcnt assessmentyear  landtaxvaluedollarcnt  taxamount  \\\n",
       "parcelid                                                                       \n",
       "11289917           136104.0         2016.0                27214.0    2319.90   \n",
       "11705026            35606.0         2016.0                23624.0     543.69   \n",
       "14269464           880456.0         2016.0               445569.0    9819.72   \n",
       "11389003           614000.0         2016.0               449000.0    7673.19   \n",
       "11967869           274237.0         2016.0               191821.0    3267.47   \n",
       "\n",
       "          censustractandblock  \n",
       "parcelid                       \n",
       "11289917         6.037901e+13  \n",
       "11705026         6.037232e+13  \n",
       "14269464         6.059064e+13  \n",
       "11389003         6.037703e+13  \n",
       "11967869         6.037185e+13  \n",
       "\n",
       "[5 rows x 31 columns]"
      ]
     },
     "execution_count": 5,
     "metadata": {},
     "output_type": "execute_result"
    }
   ],
   "source": [
    "# drop columns having too many empty data points, which is more than 70% empty\n",
    "df = df.drop((missing_values.Column_Name[missing_values.Percent_Missing >= 0.7]), axis = 1).set_index(\"parcelid\")\n",
    "df = df.drop(columns = 'id')\n",
    "df.head()"
   ]
  },
  {
   "cell_type": "code",
   "execution_count": 12,
   "metadata": {},
   "outputs": [
    {
     "name": "stdout",
     "output_type": "stream",
     "text": [
      "OUTLIER DETECTED!!!\n"
     ]
    },
    {
     "data": {
      "image/png": "[encoded data removed]",
      "text/plain": [
       "<Figure size 1080x504 with 4 Axes>"
      ]
     },
     "metadata": {
      "needs_background": "light"
     },
     "output_type": "display_data"
    }
   ],
   "source": [
    "# Understanding data distribution\n",
    "wrangle.find_outliers(df, 'calculatedfinishedsquarefeet')"
   ]
  },
  {
   "cell_type": "code",
   "execution_count": 115,
   "metadata": {},
   "outputs": [
    {
     "name": "stdout",
     "output_type": "stream",
     "text": [
      "OUTLIER DETECTED!!!\n"
     ]
    },
    {
     "data": {
      "image/png": "[encoded data removed]",
      "text/plain": [
       "<Figure size 1080x504 with 4 Axes>"
      ]
     },
     "metadata": {},
     "output_type": "display_data"
    }
   ],
   "source": [
    "wrangle.find_outliers(df, 'taxvaluedollarcnt')"
   ]
  },
  {
   "cell_type": "markdown",
   "metadata": {},
   "source": [
    "Disern Categorical vs Numerical Data\n",
    "```python\n",
    "numerical = df['bathroomcnt', 'bedroomcnt', 'calculatedfinishedsquarefeet',\\\n",
    "             'garagecarcnt', 'garagetotalsqft','roomcnt', 'unitcnt',\\\n",
    "               'yearbuilt','lotsizesquarefeet']\n",
    "\n",
    "categorical = ['buildingqualitytypeid', 'fips', 'heatingorsystemtypeid'\\\n",
    "              'propertylandusetypeid', 'propertyzoningdesc', 'rawcensustractandblock',\\\n",
    "               'regionidcity', 'regionidcounty', 'regionidneighborhood', 'regionidzip']\n",
    "\n",
    "tax_related = ['fips','structuretaxvaluedollarcnt','taxvaluedollarcnt', 'assessmentyear',\\\n",
    "               'landtaxvaluedollarcnt','taxamount', 'censustractandblock']\n",
    "\n",
    "geo = ['taxvaluedollarcnt','fips','latitude', 'longitude']```"
   ]
  },
  {
   "cell_type": "code",
   "execution_count": 6,
   "metadata": {},
   "outputs": [],
   "source": [
    "geo = df[['taxvaluedollarcnt','fips','latitude', 'longitude']].reset_index()"
   ]
  },
  {
   "cell_type": "code",
   "execution_count": 92,
   "metadata": {},
   "outputs": [],
   "source": [
    "tax_related = df[['fips','taxvaluedollarcnt','taxamount']]"
   ]
  },
  {
   "cell_type": "code",
   "execution_count": 93,
   "metadata": {},
   "outputs": [
    {
     "data": {
      "text/html": [
       "<div>\n",
       "<style scoped>\n",
       "    .dataframe tbody tr th:only-of-type {\n",
       "        vertical-align: middle;\n",
       "    }\n",
       "\n",
       "    .dataframe tbody tr th {\n",
       "        vertical-align: top;\n",
       "    }\n",
       "\n",
       "    .dataframe thead th {\n",
       "        text-align: right;\n",
       "    }\n",
       "</style>\n",
       "<table border=\"1\" class=\"dataframe\">\n",
       "  <thead>\n",
       "    <tr style=\"text-align: right;\">\n",
       "      <th></th>\n",
       "      <th>fips</th>\n",
       "      <th>taxvaluedollarcnt</th>\n",
       "      <th>taxamount</th>\n",
       "    </tr>\n",
       "    <tr>\n",
       "      <th>parcelid</th>\n",
       "      <th></th>\n",
       "      <th></th>\n",
       "      <th></th>\n",
       "    </tr>\n",
       "  </thead>\n",
       "  <tbody>\n",
       "    <tr>\n",
       "      <th>11289917</th>\n",
       "      <td>6037.0</td>\n",
       "      <td>136104.0</td>\n",
       "      <td>2319.90</td>\n",
       "    </tr>\n",
       "    <tr>\n",
       "      <th>11705026</th>\n",
       "      <td>6037.0</td>\n",
       "      <td>35606.0</td>\n",
       "      <td>543.69</td>\n",
       "    </tr>\n",
       "    <tr>\n",
       "      <th>14269464</th>\n",
       "      <td>6059.0</td>\n",
       "      <td>880456.0</td>\n",
       "      <td>9819.72</td>\n",
       "    </tr>\n",
       "    <tr>\n",
       "      <th>11389003</th>\n",
       "      <td>6037.0</td>\n",
       "      <td>614000.0</td>\n",
       "      <td>7673.19</td>\n",
       "    </tr>\n",
       "    <tr>\n",
       "      <th>11967869</th>\n",
       "      <td>6037.0</td>\n",
       "      <td>274237.0</td>\n",
       "      <td>3267.47</td>\n",
       "    </tr>\n",
       "  </tbody>\n",
       "</table>\n",
       "</div>"
      ],
      "text/plain": [
       "            fips  taxvaluedollarcnt  taxamount\n",
       "parcelid                                      \n",
       "11289917  6037.0           136104.0    2319.90\n",
       "11705026  6037.0            35606.0     543.69\n",
       "14269464  6059.0           880456.0    9819.72\n",
       "11389003  6037.0           614000.0    7673.19\n",
       "11967869  6037.0           274237.0    3267.47"
      ]
     },
     "execution_count": 93,
     "metadata": {},
     "output_type": "execute_result"
    }
   ],
   "source": [
    "tax_related.head()"
   ]
  },
  {
   "cell_type": "code",
   "execution_count": 99,
   "metadata": {},
   "outputs": [],
   "source": [
    "new_name = [\"fips\", \"taxable\", \"tax\"] \n",
    "tax_related.rename(columns=dict(zip(tax_related.columns, new_name)), inplace = True)\n",
    "tax_related = tax_related.dropna()"
   ]
  },
  {
   "cell_type": "code",
   "execution_count": 101,
   "metadata": {},
   "outputs": [],
   "source": [
    "tax_related[\"tax_rate\"] = tax_related.tax/ tax_related.taxable"
   ]
  },
  {
   "cell_type": "code",
   "execution_count": 102,
   "metadata": {},
   "outputs": [
    {
     "data": {
      "text/plain": [
       "array([6037., 6059., 6111.])"
      ]
     },
     "execution_count": 102,
     "metadata": {},
     "output_type": "execute_result"
    }
   ],
   "source": [
    "tax_related.fips.unique()"
   ]
  },
  {
   "cell_type": "code",
   "execution_count": 103,
   "metadata": {},
   "outputs": [],
   "source": [
    "LA = tax_related[tax_related.fips == 6037.0]\n",
    "Orange_County = tax_related[tax_related.fips == 6059.0]\n",
    "Ventura = tax_related[tax_related.fips == 6111.0]"
   ]
  },
  {
   "cell_type": "code",
   "execution_count": 105,
   "metadata": {},
   "outputs": [
    {
     "data": {
      "text/html": [
       "<div>\n",
       "<style scoped>\n",
       "    .dataframe tbody tr th:only-of-type {\n",
       "        vertical-align: middle;\n",
       "    }\n",
       "\n",
       "    .dataframe tbody tr th {\n",
       "        vertical-align: top;\n",
       "    }\n",
       "\n",
       "    .dataframe thead th {\n",
       "        text-align: right;\n",
       "    }\n",
       "</style>\n",
       "<table border=\"1\" class=\"dataframe\">\n",
       "  <thead>\n",
       "    <tr style=\"text-align: right;\">\n",
       "      <th></th>\n",
       "      <th>fips</th>\n",
       "      <th>taxable</th>\n",
       "      <th>tax</th>\n",
       "      <th>tax_rate</th>\n",
       "    </tr>\n",
       "    <tr>\n",
       "      <th>parcelid</th>\n",
       "      <th></th>\n",
       "      <th></th>\n",
       "      <th></th>\n",
       "      <th></th>\n",
       "    </tr>\n",
       "  </thead>\n",
       "  <tbody>\n",
       "    <tr>\n",
       "      <th>11289917</th>\n",
       "      <td>6037.0</td>\n",
       "      <td>136104.0</td>\n",
       "      <td>2319.90</td>\n",
       "      <td>0.017045</td>\n",
       "    </tr>\n",
       "    <tr>\n",
       "      <th>11705026</th>\n",
       "      <td>6037.0</td>\n",
       "      <td>35606.0</td>\n",
       "      <td>543.69</td>\n",
       "      <td>0.015270</td>\n",
       "    </tr>\n",
       "    <tr>\n",
       "      <th>11389003</th>\n",
       "      <td>6037.0</td>\n",
       "      <td>614000.0</td>\n",
       "      <td>7673.19</td>\n",
       "      <td>0.012497</td>\n",
       "    </tr>\n",
       "    <tr>\n",
       "      <th>11967869</th>\n",
       "      <td>6037.0</td>\n",
       "      <td>274237.0</td>\n",
       "      <td>3267.47</td>\n",
       "      <td>0.011915</td>\n",
       "    </tr>\n",
       "    <tr>\n",
       "      <th>11696784</th>\n",
       "      <td>6037.0</td>\n",
       "      <td>168828.0</td>\n",
       "      <td>2135.39</td>\n",
       "      <td>0.012648</td>\n",
       "    </tr>\n",
       "  </tbody>\n",
       "</table>\n",
       "</div>"
      ],
      "text/plain": [
       "            fips   taxable      tax  tax_rate\n",
       "parcelid                                     \n",
       "11289917  6037.0  136104.0  2319.90  0.017045\n",
       "11705026  6037.0   35606.0   543.69  0.015270\n",
       "11389003  6037.0  614000.0  7673.19  0.012497\n",
       "11967869  6037.0  274237.0  3267.47  0.011915\n",
       "11696784  6037.0  168828.0  2135.39  0.012648"
      ]
     },
     "execution_count": 105,
     "metadata": {},
     "output_type": "execute_result"
    }
   ],
   "source": [
    "LA.head()"
   ]
  },
  {
   "cell_type": "code",
   "execution_count": 106,
   "metadata": {},
   "outputs": [
    {
     "name": "stdout",
     "output_type": "stream",
     "text": [
      "count    1295.000000\n",
      "mean        0.012052\n",
      "std         0.008276\n",
      "min         0.000787\n",
      "25%         0.010741\n",
      "50%         0.011249\n",
      "75%         0.011925\n",
      "max         0.294865\n",
      "Name: tax_rate, dtype: float64\n",
      "count    4096.000000\n",
      "mean        0.012120\n",
      "std         0.003220\n",
      "min         0.001712\n",
      "25%         0.010616\n",
      "50%         0.011524\n",
      "75%         0.012529\n",
      "max         0.107350\n",
      "Name: tax_rate, dtype: float64\n",
      "count    9620.000000\n",
      "mean        0.014175\n",
      "std         0.007663\n",
      "min         0.001071\n",
      "25%         0.012122\n",
      "50%         0.012636\n",
      "75%         0.014410\n",
      "max         0.452884\n",
      "Name: tax_rate, dtype: float64\n"
     ]
    }
   ],
   "source": [
    "print(Ventura.tax_rate.describe())\n",
    "print(Orange_County.tax_rate.describe())\n",
    "print(LA.tax_rate.describe())"
   ]
  },
  {
   "cell_type": "code",
   "execution_count": 107,
   "metadata": {},
   "outputs": [
    {
     "data": {
      "text/plain": [
       "<matplotlib.axes._subplots.AxesSubplot at 0x1a1fb412b0>"
      ]
     },
     "execution_count": 107,
     "metadata": {},
     "output_type": "execute_result"
    },
    {
     "data": {
      "image/png": "[encoded data removed]",
      "text/plain": [
       "<Figure size 1800x360 with 3 Axes>"
      ]
     },
     "metadata": {
      "needs_background": "light"
     },
     "output_type": "display_data"
    }
   ],
   "source": [
    "from matplotlib import gridspec\n",
    "fig = plt.figure(figsize=(25,5))\n",
    "gs = gridspec.GridSpec(1, 4)\n",
    "sns.set(font_scale=1.4)\n",
    "\n",
    "ax1 = plt.subplot(gs[0, 0])\n",
    "ax2 = plt.subplot(gs[0, 1])\n",
    "ax3 = plt.subplot(gs[0, 2])\n",
    "\n",
    "# 06111        Ventura County\n",
    "# 06059        Orange County\n",
    "# 06037        Los Angeles County\n",
    "\n",
    "ax1.set_title(\"Tax Rate - Ventura County\")\n",
    "ax2.set_title(\"Tax Rate - Orange County\")\n",
    "ax3.set_title(\"Tax Rate - Los Angeles County\")\n",
    "\n",
    "ax1.set_xlim([0, 0.04])\n",
    "ax2.set_xlim([0, 0.04])\n",
    "ax3.set_xlim([0, 0.04])\n",
    "\n",
    "sns.distplot(Ventura.tax_rate, bins = 50, ax = ax1)\n",
    "sns.distplot(Orange_County.tax_rate, bins = 50, ax = ax2)\n",
    "sns.distplot(LA.tax_rate, bins = 50, ax = ax3)"
   ]
  },
  {
   "cell_type": "code",
   "execution_count": 111,
   "metadata": {},
   "outputs": [
    {
     "data": {
      "text/plain": [
       "<matplotlib.axes._subplots.AxesSubplot at 0x1c285c3ef0>"
      ]
     },
     "execution_count": 111,
     "metadata": {},
     "output_type": "execute_result"
    },
    {
     "data": {
      "image/png": "[encoded data removed]",
      "text/plain": [
       "<Figure size 1440x720 with 3 Axes>"
      ]
     },
     "metadata": {},
     "output_type": "display_data"
    }
   ],
   "source": [
    "fig = plt.figure(figsize=(20,10))\n",
    "gs = gridspec.GridSpec(1, 4)\n",
    "sns.set(font_scale=1.4)\n",
    "\n",
    "ax1 = plt.subplot(gs[0, 0])\n",
    "ax2 = plt.subplot(gs[0, 1])\n",
    "ax3 = plt.subplot(gs[0, 2])\n",
    "\n",
    "# 06111        Ventura County\n",
    "# 06059        Orange County\n",
    "# 06037        Los Angeles County\n",
    "\n",
    "ax1.set_title(\"Tax Rate - Ventura County\")\n",
    "ax2.set_title(\"Tax Rate - Orange County\")\n",
    "ax3.set_title(\"Tax Rate - Los Angeles County\")\n",
    "\n",
    "ax1.set_ylim([0, 0.04])\n",
    "ax2.set_ylim([0, 0.04])\n",
    "ax3.set_ylim([0, 0.04])\n",
    "\n",
    "sns.boxplot(y = Ventura.tax_rate, ax = ax1)\n",
    "sns.boxplot(y = Orange_County.tax_rate, ax = ax2)\n",
    "sns.boxplot(y = LA.tax_rate, ax = ax3)"
   ]
  },
  {
   "cell_type": "code",
   "execution_count": 8,
   "metadata": {},
   "outputs": [],
   "source": [
    "categorical = df[['taxvaluedollarcnt','buildingqualitytypeid', 'heatingorsystemtypeid',\\\n",
    "              'propertylandusetypeid', 'propertyzoningdesc', 'rawcensustractandblock',\\\n",
    "               'regionidcity', 'regionidcounty', 'regionidneighborhood', 'regionidzip']]"
   ]
  },
  {
   "cell_type": "code",
   "execution_count": 9,
   "metadata": {},
   "outputs": [
    {
     "data": {
      "text/html": [
       "<div>\n",
       "<style scoped>\n",
       "    .dataframe tbody tr th:only-of-type {\n",
       "        vertical-align: middle;\n",
       "    }\n",
       "\n",
       "    .dataframe tbody tr th {\n",
       "        vertical-align: top;\n",
       "    }\n",
       "\n",
       "    .dataframe thead th {\n",
       "        text-align: right;\n",
       "    }\n",
       "</style>\n",
       "<table border=\"1\" class=\"dataframe\">\n",
       "  <thead>\n",
       "    <tr style=\"text-align: right;\">\n",
       "      <th></th>\n",
       "      <th>taxvaluedollarcnt</th>\n",
       "      <th>bathroomcnt</th>\n",
       "      <th>bedroomcnt</th>\n",
       "      <th>calculatedfinishedsquarefeet</th>\n",
       "      <th>garagecarcnt</th>\n",
       "      <th>garagetotalsqft</th>\n",
       "      <th>roomcnt</th>\n",
       "      <th>unitcnt</th>\n",
       "      <th>yearbuilt</th>\n",
       "      <th>lotsizesquarefeet</th>\n",
       "    </tr>\n",
       "    <tr>\n",
       "      <th>parcelid</th>\n",
       "      <th></th>\n",
       "      <th></th>\n",
       "      <th></th>\n",
       "      <th></th>\n",
       "      <th></th>\n",
       "      <th></th>\n",
       "      <th></th>\n",
       "      <th></th>\n",
       "      <th></th>\n",
       "      <th></th>\n",
       "    </tr>\n",
       "  </thead>\n",
       "  <tbody>\n",
       "    <tr>\n",
       "      <th>11289917</th>\n",
       "      <td>136104.0</td>\n",
       "      <td>2.0</td>\n",
       "      <td>3.0</td>\n",
       "      <td>1458.0</td>\n",
       "      <td>NaN</td>\n",
       "      <td>NaN</td>\n",
       "      <td>0.0</td>\n",
       "      <td>1.0</td>\n",
       "      <td>1970.0</td>\n",
       "      <td>8284.0</td>\n",
       "    </tr>\n",
       "    <tr>\n",
       "      <th>11705026</th>\n",
       "      <td>35606.0</td>\n",
       "      <td>1.0</td>\n",
       "      <td>2.0</td>\n",
       "      <td>1421.0</td>\n",
       "      <td>NaN</td>\n",
       "      <td>NaN</td>\n",
       "      <td>0.0</td>\n",
       "      <td>1.0</td>\n",
       "      <td>1911.0</td>\n",
       "      <td>6707.0</td>\n",
       "    </tr>\n",
       "    <tr>\n",
       "      <th>14269464</th>\n",
       "      <td>880456.0</td>\n",
       "      <td>3.0</td>\n",
       "      <td>4.0</td>\n",
       "      <td>2541.0</td>\n",
       "      <td>2.0</td>\n",
       "      <td>426.0</td>\n",
       "      <td>0.0</td>\n",
       "      <td>NaN</td>\n",
       "      <td>2003.0</td>\n",
       "      <td>4975.0</td>\n",
       "    </tr>\n",
       "    <tr>\n",
       "      <th>11389003</th>\n",
       "      <td>614000.0</td>\n",
       "      <td>2.0</td>\n",
       "      <td>3.0</td>\n",
       "      <td>1650.0</td>\n",
       "      <td>NaN</td>\n",
       "      <td>NaN</td>\n",
       "      <td>0.0</td>\n",
       "      <td>1.0</td>\n",
       "      <td>1949.0</td>\n",
       "      <td>7300.0</td>\n",
       "    </tr>\n",
       "    <tr>\n",
       "      <th>11967869</th>\n",
       "      <td>274237.0</td>\n",
       "      <td>1.0</td>\n",
       "      <td>2.0</td>\n",
       "      <td>693.0</td>\n",
       "      <td>NaN</td>\n",
       "      <td>NaN</td>\n",
       "      <td>0.0</td>\n",
       "      <td>1.0</td>\n",
       "      <td>1921.0</td>\n",
       "      <td>2908.0</td>\n",
       "    </tr>\n",
       "  </tbody>\n",
       "</table>\n",
       "</div>"
      ],
      "text/plain": [
       "          taxvaluedollarcnt  bathroomcnt  bedroomcnt  \\\n",
       "parcelid                                               \n",
       "11289917           136104.0          2.0         3.0   \n",
       "11705026            35606.0          1.0         2.0   \n",
       "14269464           880456.0          3.0         4.0   \n",
       "11389003           614000.0          2.0         3.0   \n",
       "11967869           274237.0          1.0         2.0   \n",
       "\n",
       "          calculatedfinishedsquarefeet  garagecarcnt  garagetotalsqft  \\\n",
       "parcelid                                                                \n",
       "11289917                        1458.0           NaN              NaN   \n",
       "11705026                        1421.0           NaN              NaN   \n",
       "14269464                        2541.0           2.0            426.0   \n",
       "11389003                        1650.0           NaN              NaN   \n",
       "11967869                         693.0           NaN              NaN   \n",
       "\n",
       "          roomcnt  unitcnt  yearbuilt  lotsizesquarefeet  \n",
       "parcelid                                                  \n",
       "11289917      0.0      1.0     1970.0             8284.0  \n",
       "11705026      0.0      1.0     1911.0             6707.0  \n",
       "14269464      0.0      NaN     2003.0             4975.0  \n",
       "11389003      0.0      1.0     1949.0             7300.0  \n",
       "11967869      0.0      1.0     1921.0             2908.0  "
      ]
     },
     "execution_count": 9,
     "metadata": {},
     "output_type": "execute_result"
    }
   ],
   "source": [
    "numerical = df[['taxvaluedollarcnt','bathroomcnt', 'bedroomcnt', 'calculatedfinishedsquarefeet',\\\n",
    "             'garagecarcnt', 'garagetotalsqft','roomcnt', 'unitcnt', 'yearbuilt','lotsizesquarefeet']]\n",
    "numerical.head()"
   ]
  },
  {
   "cell_type": "markdown",
   "metadata": {},
   "source": [
    "**Handle na in numerical data columns**\n",
    "> fill in with median instead of drop na\n",
    "\n",
    "some numerical data type contain plenty of na,\n",
    "if drop all rows containing na, will loose a lot of data\n",
    "\n",
    "Process these column: 'garagecarcnt','garagetotalsqft','unitcnt','yearbuilt','lotsizesquarefeet'"
   ]
  },
  {
   "cell_type": "code",
   "execution_count": 10,
   "metadata": {},
   "outputs": [
    {
     "data": {
      "text/html": [
       "<div>\n",
       "<style scoped>\n",
       "    .dataframe tbody tr th:only-of-type {\n",
       "        vertical-align: middle;\n",
       "    }\n",
       "\n",
       "    .dataframe tbody tr th {\n",
       "        vertical-align: top;\n",
       "    }\n",
       "\n",
       "    .dataframe thead th {\n",
       "        text-align: right;\n",
       "    }\n",
       "</style>\n",
       "<table border=\"1\" class=\"dataframe\">\n",
       "  <thead>\n",
       "    <tr style=\"text-align: right;\">\n",
       "      <th></th>\n",
       "      <th>taxvaluedollarcnt</th>\n",
       "      <th>bathroomcnt</th>\n",
       "      <th>bedroomcnt</th>\n",
       "      <th>calculatedfinishedsquarefeet</th>\n",
       "      <th>garagecarcnt</th>\n",
       "      <th>garagetotalsqft</th>\n",
       "      <th>roomcnt</th>\n",
       "      <th>unitcnt</th>\n",
       "      <th>yearbuilt</th>\n",
       "      <th>lotsizesquarefeet</th>\n",
       "    </tr>\n",
       "    <tr>\n",
       "      <th>parcelid</th>\n",
       "      <th></th>\n",
       "      <th></th>\n",
       "      <th></th>\n",
       "      <th></th>\n",
       "      <th></th>\n",
       "      <th></th>\n",
       "      <th></th>\n",
       "      <th></th>\n",
       "      <th></th>\n",
       "      <th></th>\n",
       "    </tr>\n",
       "  </thead>\n",
       "  <tbody>\n",
       "    <tr>\n",
       "      <th>11289917</th>\n",
       "      <td>136104.0</td>\n",
       "      <td>2.0</td>\n",
       "      <td>3.0</td>\n",
       "      <td>1458.0</td>\n",
       "      <td>2.0</td>\n",
       "      <td>462.0</td>\n",
       "      <td>0.0</td>\n",
       "      <td>1.0</td>\n",
       "      <td>1970.0</td>\n",
       "      <td>8284.0</td>\n",
       "    </tr>\n",
       "    <tr>\n",
       "      <th>11705026</th>\n",
       "      <td>35606.0</td>\n",
       "      <td>1.0</td>\n",
       "      <td>2.0</td>\n",
       "      <td>1421.0</td>\n",
       "      <td>2.0</td>\n",
       "      <td>462.0</td>\n",
       "      <td>0.0</td>\n",
       "      <td>1.0</td>\n",
       "      <td>1911.0</td>\n",
       "      <td>6707.0</td>\n",
       "    </tr>\n",
       "    <tr>\n",
       "      <th>14269464</th>\n",
       "      <td>880456.0</td>\n",
       "      <td>3.0</td>\n",
       "      <td>4.0</td>\n",
       "      <td>2541.0</td>\n",
       "      <td>2.0</td>\n",
       "      <td>426.0</td>\n",
       "      <td>0.0</td>\n",
       "      <td>1.0</td>\n",
       "      <td>2003.0</td>\n",
       "      <td>4975.0</td>\n",
       "    </tr>\n",
       "    <tr>\n",
       "      <th>11389003</th>\n",
       "      <td>614000.0</td>\n",
       "      <td>2.0</td>\n",
       "      <td>3.0</td>\n",
       "      <td>1650.0</td>\n",
       "      <td>2.0</td>\n",
       "      <td>462.0</td>\n",
       "      <td>0.0</td>\n",
       "      <td>1.0</td>\n",
       "      <td>1949.0</td>\n",
       "      <td>7300.0</td>\n",
       "    </tr>\n",
       "    <tr>\n",
       "      <th>11967869</th>\n",
       "      <td>274237.0</td>\n",
       "      <td>1.0</td>\n",
       "      <td>2.0</td>\n",
       "      <td>693.0</td>\n",
       "      <td>2.0</td>\n",
       "      <td>462.0</td>\n",
       "      <td>0.0</td>\n",
       "      <td>1.0</td>\n",
       "      <td>1921.0</td>\n",
       "      <td>2908.0</td>\n",
       "    </tr>\n",
       "  </tbody>\n",
       "</table>\n",
       "</div>"
      ],
      "text/plain": [
       "          taxvaluedollarcnt  bathroomcnt  bedroomcnt  \\\n",
       "parcelid                                               \n",
       "11289917           136104.0          2.0         3.0   \n",
       "11705026            35606.0          1.0         2.0   \n",
       "14269464           880456.0          3.0         4.0   \n",
       "11389003           614000.0          2.0         3.0   \n",
       "11967869           274237.0          1.0         2.0   \n",
       "\n",
       "          calculatedfinishedsquarefeet  garagecarcnt  garagetotalsqft  \\\n",
       "parcelid                                                                \n",
       "11289917                        1458.0           2.0            462.0   \n",
       "11705026                        1421.0           2.0            462.0   \n",
       "14269464                        2541.0           2.0            426.0   \n",
       "11389003                        1650.0           2.0            462.0   \n",
       "11967869                         693.0           2.0            462.0   \n",
       "\n",
       "          roomcnt  unitcnt  yearbuilt  lotsizesquarefeet  \n",
       "parcelid                                                  \n",
       "11289917      0.0      1.0     1970.0             8284.0  \n",
       "11705026      0.0      1.0     1911.0             6707.0  \n",
       "14269464      0.0      1.0     2003.0             4975.0  \n",
       "11389003      0.0      1.0     1949.0             7300.0  \n",
       "11967869      0.0      1.0     1921.0             2908.0  "
      ]
     },
     "execution_count": 10,
     "metadata": {},
     "output_type": "execute_result"
    }
   ],
   "source": [
    "values = {\"garagecarcnt\": numerical.garagecarcnt.median(),\\\n",
    "          \"unitcnt\": numerical.unitcnt.median(),\\\n",
    "          \"garagetotalsqft\":numerical.garagetotalsqft.median(),\\\n",
    "          \"lotsizesquarefeet\":numerical.lotsizesquarefeet.median(),\\\n",
    "             \"yearbuilt\":numerical.yearbuilt.median()}\n",
    "numerical = numerical.fillna(value=values)\n",
    "\n",
    "numerical.head()"
   ]
  },
  {
   "cell_type": "code",
   "execution_count": 114,
   "metadata": {},
   "outputs": [
    {
     "data": {
      "text/plain": [
       "<matplotlib.axes._subplots.AxesSubplot at 0x1c28a834a8>"
      ]
     },
     "execution_count": 114,
     "metadata": {},
     "output_type": "execute_result"
    },
    {
     "data": {
      "image/png": "[encoded data removed]",
      "text/plain": [
       "<Figure size 1440x720 with 1 Axes>"
      ]
     },
     "metadata": {},
     "output_type": "display_data"
    }
   ],
   "source": [
    "fig = plt.figure(figsize=(20,10))\n",
    "sns.boxplot(x = numerical.taxvaluedollarcnt)"
   ]
  },
  {
   "cell_type": "code",
   "execution_count": null,
   "metadata": {},
   "outputs": [],
   "source": []
  },
  {
   "cell_type": "code",
   "execution_count": null,
   "metadata": {},
   "outputs": [],
   "source": []
  },
  {
   "cell_type": "code",
   "execution_count": 11,
   "metadata": {},
   "outputs": [
    {
     "data": {
      "image/png": "[encoded data removed]",
      "text/plain": [
       "<Figure size 1800x1800 with 10 Axes>"
      ]
     },
     "metadata": {
      "needs_background": "light"
     },
     "output_type": "display_data"
    }
   ],
   "source": [
    "plt.figure(figsize=(25, 25))\n",
    "\n",
    "for i, col in enumerate(['taxvaluedollarcnt', 'bathroomcnt', 'bedroomcnt',\\\n",
    "       'calculatedfinishedsquarefeet', 'garagecarcnt', 'garagetotalsqft',\\\n",
    "       'roomcnt', 'unitcnt', 'yearbuilt', 'lotsizesquarefeet']):  \n",
    "    plot_number = i + 1 # i starts at 0, but plot nos should start at 1\n",
    "    series = numerical[col]  \n",
    "    plt.subplot(4, 3, plot_number)\n",
    "    plt.title(col)\n",
    "    series.hist(density=False, cumulative=False, log=False)"
   ]
  },
  {
   "cell_type": "code",
   "execution_count": 19,
   "metadata": {
    "scrolled": true
   },
   "outputs": [
    {
     "data": {
      "image/png": "[encoded data removed]",
      "text/plain": [
       "<Figure size 1440x1440 with 2 Axes>"
      ]
     },
     "metadata": {
      "needs_background": "light"
     },
     "output_type": "display_data"
    }
   ],
   "source": [
    "# Visualize relationship in Pearson R among all numerical features\n",
    "plt.figure(figsize=(20,20))\n",
    "sns.set(font_scale=1.4)\n",
    "Numerical_Heatmap = sns.heatmap(numerical.corr(),annot=True)\n",
    "fig = Numerical_Heatmap.get_figure()\n",
    "fig.savefig(\"Numerical_Heatmap.png\") "
   ]
  },
  {
   "cell_type": "markdown",
   "metadata": {},
   "source": [
    "DATA ACQUISITION >> DATA TIDY >> **(EXPLORE <=> TRANSFORM) >> MODEL** >> DELIVER"
   ]
  },
  {
   "cell_type": "code",
   "execution_count": 15,
   "metadata": {},
   "outputs": [],
   "source": [
    "from sklearn.preprocessing import StandardScaler, PowerTransformer, MinMaxScaler, RobustScaler, QuantileTransformer\n",
    "from sklearn.model_selection import train_test_split\n",
    "import split_scale"
   ]
  },
  {
   "cell_type": "code",
   "execution_count": 19,
   "metadata": {},
   "outputs": [],
   "source": [
    "# split train and test data with numerical dataframe for model building\n",
    "train, test = split_scale.split_my_data(numerical, train_ratio=.80, seed=123)"
   ]
  },
  {
   "cell_type": "markdown",
   "metadata": {},
   "source": [
    "# **Initial Model - constructed with number of bedroom, bathroom and squarefeet to predict property value** "
   ]
  },
  {
   "cell_type": "code",
   "execution_count": 17,
   "metadata": {},
   "outputs": [],
   "source": [
    "base_train_X = train[['bathroomcnt', 'bedroomcnt', 'calculatedfinishedsquarefeet']]\n",
    "base_train_y = train.taxvaluedollarcnt"
   ]
  },
  {
   "cell_type": "markdown",
   "metadata": {},
   "source": [
    "## Initial Model - the summary of baseline model without data scaling"
   ]
  },
  {
   "cell_type": "code",
   "execution_count": 18,
   "metadata": {},
   "outputs": [
    {
     "name": "stderr",
     "output_type": "stream",
     "text": [
      "/usr/local/anaconda3/lib/python3.7/site-packages/numpy/core/fromnumeric.py:2389: FutureWarning: Method .ptp is deprecated and will be removed in a future version. Use numpy.ptp instead.\n",
      "  return ptp(axis=axis, out=out, **kwargs)\n"
     ]
    },
    {
     "data": {
      "text/html": [
       "<table class=\"simpletable\">\n",
       "<caption>OLS Regression Results</caption>\n",
       "<tr>\n",
       "  <th>Dep. Variable:</th>    <td>taxvaluedollarcnt</td> <th>  R-squared:         </th>  <td>   0.387</td>  \n",
       "</tr>\n",
       "<tr>\n",
       "  <th>Model:</th>                   <td>OLS</td>        <th>  Adj. R-squared:    </th>  <td>   0.387</td>  \n",
       "</tr>\n",
       "<tr>\n",
       "  <th>Method:</th>             <td>Least Squares</td>   <th>  F-statistic:       </th>  <td>   2525.</td>  \n",
       "</tr>\n",
       "<tr>\n",
       "  <th>Date:</th>             <td>Sun, 20 Oct 2019</td>  <th>  Prob (F-statistic):</th>   <td>  0.00</td>   \n",
       "</tr>\n",
       "<tr>\n",
       "  <th>Time:</th>                 <td>15:02:05</td>      <th>  Log-Likelihood:    </th> <td>-1.7625e+05</td>\n",
       "</tr>\n",
       "<tr>\n",
       "  <th>No. Observations:</th>      <td> 12009</td>       <th>  AIC:               </th>  <td>3.525e+05</td> \n",
       "</tr>\n",
       "<tr>\n",
       "  <th>Df Residuals:</th>          <td> 12005</td>       <th>  BIC:               </th>  <td>3.525e+05</td> \n",
       "</tr>\n",
       "<tr>\n",
       "  <th>Df Model:</th>              <td>     3</td>       <th>                     </th>      <td> </td>     \n",
       "</tr>\n",
       "<tr>\n",
       "  <th>Covariance Type:</th>      <td>nonrobust</td>     <th>                     </th>      <td> </td>     \n",
       "</tr>\n",
       "</table>\n",
       "<table class=\"simpletable\">\n",
       "<tr>\n",
       "                <td></td>                  <th>coef</th>     <th>std err</th>      <th>t</th>      <th>P>|t|</th>  <th>[0.025</th>    <th>0.975]</th>  \n",
       "</tr>\n",
       "<tr>\n",
       "  <th>const</th>                        <td>-2.842e+04</td> <td> 1.92e+04</td> <td>   -1.478</td> <td> 0.139</td> <td>-6.61e+04</td> <td> 9274.319</td>\n",
       "</tr>\n",
       "<tr>\n",
       "  <th>bathroomcnt</th>                  <td> 6.519e+04</td> <td> 1.01e+04</td> <td>    6.439</td> <td> 0.000</td> <td> 4.53e+04</td> <td>  8.5e+04</td>\n",
       "</tr>\n",
       "<tr>\n",
       "  <th>bedroomcnt</th>                   <td>-1.488e+05</td> <td> 7371.945</td> <td>  -20.180</td> <td> 0.000</td> <td>-1.63e+05</td> <td>-1.34e+05</td>\n",
       "</tr>\n",
       "<tr>\n",
       "  <th>calculatedfinishedsquarefeet</th> <td>  468.3379</td> <td>   10.233</td> <td>   45.769</td> <td> 0.000</td> <td>  448.280</td> <td>  488.396</td>\n",
       "</tr>\n",
       "</table>\n",
       "<table class=\"simpletable\">\n",
       "<tr>\n",
       "  <th>Omnibus:</th>       <td>19082.375</td> <th>  Durbin-Watson:     </th>   <td>   2.015</td>  \n",
       "</tr>\n",
       "<tr>\n",
       "  <th>Prob(Omnibus):</th>  <td> 0.000</td>   <th>  Jarque-Bera (JB):  </th> <td>27878473.350</td>\n",
       "</tr>\n",
       "<tr>\n",
       "  <th>Skew:</th>           <td> 9.927</td>   <th>  Prob(JB):          </th>   <td>    0.00</td>  \n",
       "</tr>\n",
       "<tr>\n",
       "  <th>Kurtosis:</th>       <td>238.204</td>  <th>  Cond. No.          </th>   <td>8.45e+03</td>  \n",
       "</tr>\n",
       "</table><br/><br/>Warnings:<br/>[1] Standard Errors assume that the covariance matrix of the errors is correctly specified.<br/>[2] The condition number is large, 8.45e+03. This might indicate that there are<br/>strong multicollinearity or other numerical problems."
      ],
      "text/plain": [
       "<class 'statsmodels.iolib.summary.Summary'>\n",
       "\"\"\"\n",
       "                            OLS Regression Results                            \n",
       "==============================================================================\n",
       "Dep. Variable:      taxvaluedollarcnt   R-squared:                       0.387\n",
       "Model:                            OLS   Adj. R-squared:                  0.387\n",
       "Method:                 Least Squares   F-statistic:                     2525.\n",
       "Date:                Sun, 20 Oct 2019   Prob (F-statistic):               0.00\n",
       "Time:                        15:02:05   Log-Likelihood:            -1.7625e+05\n",
       "No. Observations:               12009   AIC:                         3.525e+05\n",
       "Df Residuals:                   12005   BIC:                         3.525e+05\n",
       "Df Model:                           3                                         \n",
       "Covariance Type:            nonrobust                                         \n",
       "================================================================================================\n",
       "                                   coef    std err          t      P>|t|      [0.025      0.975]\n",
       "------------------------------------------------------------------------------------------------\n",
       "const                        -2.842e+04   1.92e+04     -1.478      0.139   -6.61e+04    9274.319\n",
       "bathroomcnt                   6.519e+04   1.01e+04      6.439      0.000    4.53e+04     8.5e+04\n",
       "bedroomcnt                   -1.488e+05   7371.945    -20.180      0.000   -1.63e+05   -1.34e+05\n",
       "calculatedfinishedsquarefeet   468.3379     10.233     45.769      0.000     448.280     488.396\n",
       "==============================================================================\n",
       "Omnibus:                    19082.375   Durbin-Watson:                   2.015\n",
       "Prob(Omnibus):                  0.000   Jarque-Bera (JB):         27878473.350\n",
       "Skew:                           9.927   Prob(JB):                         0.00\n",
       "Kurtosis:                     238.204   Cond. No.                     8.45e+03\n",
       "==============================================================================\n",
       "\n",
       "Warnings:\n",
       "[1] Standard Errors assume that the covariance matrix of the errors is correctly specified.\n",
       "[2] The condition number is large, 8.45e+03. This might indicate that there are\n",
       "strong multicollinearity or other numerical problems.\n",
       "\"\"\""
      ]
     },
     "execution_count": 18,
     "metadata": {},
     "output_type": "execute_result"
    }
   ],
   "source": [
    "from statsmodels.sandbox.regression.predstd import wls_prediction_std\n",
    "import statsmodels.api as sm\n",
    "## fit a OLS model \n",
    "X = sm.add_constant(base_train_X)\n",
    "est = sm.OLS(base_train_y, X).fit()\n",
    "est.summary()"
   ]
  },
  {
   "cell_type": "markdown",
   "metadata": {},
   "source": [
    "## Initial Model - with more data preprocessing"
   ]
  },
  {
   "cell_type": "code",
   "execution_count": 20,
   "metadata": {},
   "outputs": [],
   "source": [
    "scaler, base_train_scaled = split_scale.standard_scaler(train)"
   ]
  },
  {
   "cell_type": "code",
   "execution_count": 21,
   "metadata": {},
   "outputs": [],
   "source": [
    "base_train_scaled_X = base_train_scaled[['bathroomcnt', 'bedroomcnt', 'calculatedfinishedsquarefeet']]\n",
    "base_train_scaled_y = base_train_scaled.taxvaluedollarcnt"
   ]
  },
  {
   "cell_type": "code",
   "execution_count": 22,
   "metadata": {},
   "outputs": [
    {
     "name": "stderr",
     "output_type": "stream",
     "text": [
      "/usr/local/anaconda3/lib/python3.7/site-packages/numpy/core/fromnumeric.py:2389: FutureWarning: Method .ptp is deprecated and will be removed in a future version. Use numpy.ptp instead.\n",
      "  return ptp(axis=axis, out=out, **kwargs)\n"
     ]
    },
    {
     "data": {
      "text/html": [
       "<table class=\"simpletable\">\n",
       "<caption>OLS Regression Results</caption>\n",
       "<tr>\n",
       "  <th>Dep. Variable:</th>    <td>taxvaluedollarcnt</td> <th>  R-squared:         </th> <td>   0.387</td> \n",
       "</tr>\n",
       "<tr>\n",
       "  <th>Model:</th>                   <td>OLS</td>        <th>  Adj. R-squared:    </th> <td>   0.387</td> \n",
       "</tr>\n",
       "<tr>\n",
       "  <th>Method:</th>             <td>Least Squares</td>   <th>  F-statistic:       </th> <td>   2525.</td> \n",
       "</tr>\n",
       "<tr>\n",
       "  <th>Date:</th>             <td>Sun, 20 Oct 2019</td>  <th>  Prob (F-statistic):</th>  <td>  0.00</td>  \n",
       "</tr>\n",
       "<tr>\n",
       "  <th>Time:</th>                 <td>15:03:17</td>      <th>  Log-Likelihood:    </th> <td> -14103.</td> \n",
       "</tr>\n",
       "<tr>\n",
       "  <th>No. Observations:</th>      <td> 12009</td>       <th>  AIC:               </th> <td>2.821e+04</td>\n",
       "</tr>\n",
       "<tr>\n",
       "  <th>Df Residuals:</th>          <td> 12005</td>       <th>  BIC:               </th> <td>2.824e+04</td>\n",
       "</tr>\n",
       "<tr>\n",
       "  <th>Df Model:</th>              <td>     3</td>       <th>                     </th>     <td> </td>    \n",
       "</tr>\n",
       "<tr>\n",
       "  <th>Covariance Type:</th>      <td>nonrobust</td>     <th>                     </th>     <td> </td>    \n",
       "</tr>\n",
       "</table>\n",
       "<table class=\"simpletable\">\n",
       "<tr>\n",
       "                <td></td>                  <th>coef</th>     <th>std err</th>      <th>t</th>      <th>P>|t|</th>  <th>[0.025</th>    <th>0.975]</th>  \n",
       "</tr>\n",
       "<tr>\n",
       "  <th>const</th>                        <td> 9.541e-18</td> <td>    0.007</td> <td> 1.34e-15</td> <td> 1.000</td> <td>   -0.014</td> <td>    0.014</td>\n",
       "</tr>\n",
       "<tr>\n",
       "  <th>bathroomcnt</th>                  <td>    0.0922</td> <td>    0.014</td> <td>    6.439</td> <td> 0.000</td> <td>    0.064</td> <td>    0.120</td>\n",
       "</tr>\n",
       "<tr>\n",
       "  <th>bedroomcnt</th>                   <td>   -0.1934</td> <td>    0.010</td> <td>  -20.180</td> <td> 0.000</td> <td>   -0.212</td> <td>   -0.175</td>\n",
       "</tr>\n",
       "<tr>\n",
       "  <th>calculatedfinishedsquarefeet</th> <td>    0.6493</td> <td>    0.014</td> <td>   45.769</td> <td> 0.000</td> <td>    0.621</td> <td>    0.677</td>\n",
       "</tr>\n",
       "</table>\n",
       "<table class=\"simpletable\">\n",
       "<tr>\n",
       "  <th>Omnibus:</th>       <td>19082.375</td> <th>  Durbin-Watson:     </th>   <td>   2.015</td>  \n",
       "</tr>\n",
       "<tr>\n",
       "  <th>Prob(Omnibus):</th>  <td> 0.000</td>   <th>  Jarque-Bera (JB):  </th> <td>27878473.350</td>\n",
       "</tr>\n",
       "<tr>\n",
       "  <th>Skew:</th>           <td> 9.927</td>   <th>  Prob(JB):          </th>   <td>    0.00</td>  \n",
       "</tr>\n",
       "<tr>\n",
       "  <th>Kurtosis:</th>       <td>238.204</td>  <th>  Cond. No.          </th>   <td>    4.12</td>  \n",
       "</tr>\n",
       "</table><br/><br/>Warnings:<br/>[1] Standard Errors assume that the covariance matrix of the errors is correctly specified."
      ],
      "text/plain": [
       "<class 'statsmodels.iolib.summary.Summary'>\n",
       "\"\"\"\n",
       "                            OLS Regression Results                            \n",
       "==============================================================================\n",
       "Dep. Variable:      taxvaluedollarcnt   R-squared:                       0.387\n",
       "Model:                            OLS   Adj. R-squared:                  0.387\n",
       "Method:                 Least Squares   F-statistic:                     2525.\n",
       "Date:                Sun, 20 Oct 2019   Prob (F-statistic):               0.00\n",
       "Time:                        15:03:17   Log-Likelihood:                -14103.\n",
       "No. Observations:               12009   AIC:                         2.821e+04\n",
       "Df Residuals:                   12005   BIC:                         2.824e+04\n",
       "Df Model:                           3                                         \n",
       "Covariance Type:            nonrobust                                         \n",
       "================================================================================================\n",
       "                                   coef    std err          t      P>|t|      [0.025      0.975]\n",
       "------------------------------------------------------------------------------------------------\n",
       "const                         9.541e-18      0.007   1.34e-15      1.000      -0.014       0.014\n",
       "bathroomcnt                      0.0922      0.014      6.439      0.000       0.064       0.120\n",
       "bedroomcnt                      -0.1934      0.010    -20.180      0.000      -0.212      -0.175\n",
       "calculatedfinishedsquarefeet     0.6493      0.014     45.769      0.000       0.621       0.677\n",
       "==============================================================================\n",
       "Omnibus:                    19082.375   Durbin-Watson:                   2.015\n",
       "Prob(Omnibus):                  0.000   Jarque-Bera (JB):         27878473.350\n",
       "Skew:                           9.927   Prob(JB):                         0.00\n",
       "Kurtosis:                     238.204   Cond. No.                         4.12\n",
       "==============================================================================\n",
       "\n",
       "Warnings:\n",
       "[1] Standard Errors assume that the covariance matrix of the errors is correctly specified.\n",
       "\"\"\""
      ]
     },
     "execution_count": 22,
     "metadata": {},
     "output_type": "execute_result"
    }
   ],
   "source": [
    "X = sm.add_constant(base_train_scaled_X)\n",
    "est = sm.OLS(base_train_scaled_y, X).fit()\n",
    "est.summary()"
   ]
  },
  {
   "cell_type": "code",
   "execution_count": 23,
   "metadata": {},
   "outputs": [],
   "source": [
    "import model"
   ]
  },
  {
   "cell_type": "code",
   "execution_count": 118,
   "metadata": {},
   "outputs": [
    {
     "name": "stdout",
     "output_type": "stream",
     "text": [
      "MSE:  0.6131594110582133 SSE:  7363.431367398083 RMSE:  0.7830449610706994 r^2:  0.3868405889417865\n"
     ]
    },
    {
     "data": {
      "text/plain": [
       "<seaborn.axisgrid.FacetGrid at 0x1c28692d68>"
      ]
     },
     "execution_count": 118,
     "metadata": {},
     "output_type": "execute_result"
    },
    {
     "data": {
      "image/png": "[encoded data removed]",
      "text/plain": [
       "<Figure size 472.815x360 with 1 Axes>"
      ]
     },
     "metadata": {},
     "output_type": "display_data"
    }
   ],
   "source": [
    "rf = pd.DataFrame(base_train_scaled_y)\n",
    "rf = model.linear_model(base_train_scaled_X, base_train_scaled_y)\n",
    "baseline = model.compute_baseline(base_train_scaled_y)\n",
    "model.evaluate(rf.taxvaluedollarcnt, rf.lm)\n",
    "model.plot_linear_model(rf.taxvaluedollarcnt, rf.lm, baseline)"
   ]
  },
  {
   "cell_type": "code",
   "execution_count": 29,
   "metadata": {},
   "outputs": [
    {
     "name": "stderr",
     "output_type": "stream",
     "text": [
      "/usr/local/anaconda3/lib/python3.7/site-packages/sklearn/model_selection/_split.py:1978: FutureWarning: The default value of cv will change from 3 to 5 in version 0.22. Specify it explicitly to silence this warning.\n",
      "  warnings.warn(CV_WARNING, FutureWarning)\n"
     ]
    },
    {
     "data": {
      "text/plain": [
       "bathroomcnt                     0.403557\n",
       "calculatedfinishedsquarefeet    0.260088\n",
       "bedroomcnt                     -0.124806\n",
       "dtype: float64"
      ]
     },
     "execution_count": 29,
     "metadata": {},
     "output_type": "execute_result"
    }
   ],
   "source": [
    "import features\n",
    "coef_base = features.lasso_cv_coef(base_train_scaled_X, base_train_scaled_y)\n",
    "coef_base"
   ]
  },
  {
   "cell_type": "code",
   "execution_count": null,
   "metadata": {},
   "outputs": [],
   "source": []
  },
  {
   "cell_type": "code",
   "execution_count": 30,
   "metadata": {},
   "outputs": [
    {
     "name": "stderr",
     "output_type": "stream",
     "text": [
      "/usr/local/anaconda3/lib/python3.7/site-packages/numpy/core/fromnumeric.py:2389: FutureWarning: Method .ptp is deprecated and will be removed in a future version. Use numpy.ptp instead.\n",
      "  return ptp(axis=axis, out=out, **kwargs)\n"
     ]
    },
    {
     "data": {
      "text/html": [
       "<table class=\"simpletable\">\n",
       "<caption>OLS Regression Results</caption>\n",
       "<tr>\n",
       "  <th>Dep. Variable:</th>    <td>taxvaluedollarcnt</td> <th>  R-squared:         </th> <td>   0.298</td> \n",
       "</tr>\n",
       "<tr>\n",
       "  <th>Model:</th>                   <td>OLS</td>        <th>  Adj. R-squared:    </th> <td>   0.298</td> \n",
       "</tr>\n",
       "<tr>\n",
       "  <th>Method:</th>             <td>Least Squares</td>   <th>  F-statistic:       </th> <td>   2548.</td> \n",
       "</tr>\n",
       "<tr>\n",
       "  <th>Date:</th>             <td>Sun, 20 Oct 2019</td>  <th>  Prob (F-statistic):</th>  <td>  0.00</td>  \n",
       "</tr>\n",
       "<tr>\n",
       "  <th>Time:</th>                 <td>13:55:57</td>      <th>  Log-Likelihood:    </th> <td> -14915.</td> \n",
       "</tr>\n",
       "<tr>\n",
       "  <th>No. Observations:</th>      <td> 12009</td>       <th>  AIC:               </th> <td>2.984e+04</td>\n",
       "</tr>\n",
       "<tr>\n",
       "  <th>Df Residuals:</th>          <td> 12006</td>       <th>  BIC:               </th> <td>2.986e+04</td>\n",
       "</tr>\n",
       "<tr>\n",
       "  <th>Df Model:</th>              <td>     2</td>       <th>                     </th>     <td> </td>    \n",
       "</tr>\n",
       "<tr>\n",
       "  <th>Covariance Type:</th>      <td>nonrobust</td>     <th>                     </th>     <td> </td>    \n",
       "</tr>\n",
       "</table>\n",
       "<table class=\"simpletable\">\n",
       "<tr>\n",
       "                <td></td>                  <th>coef</th>     <th>std err</th>      <th>t</th>      <th>P>|t|</th>  <th>[0.025</th>    <th>0.975]</th>  \n",
       "</tr>\n",
       "<tr>\n",
       "  <th>const</th>                        <td> 9.541e-18</td> <td>    0.008</td> <td> 1.25e-15</td> <td> 1.000</td> <td>   -0.015</td> <td>    0.015</td>\n",
       "</tr>\n",
       "<tr>\n",
       "  <th>bathroomcnt</th>                  <td>    0.3373</td> <td>    0.012</td> <td>   28.193</td> <td> 0.000</td> <td>    0.314</td> <td>    0.361</td>\n",
       "</tr>\n",
       "<tr>\n",
       "  <th>calculatedfinishedsquarefeet</th> <td>    0.2421</td> <td>    0.012</td> <td>   20.233</td> <td> 0.000</td> <td>    0.219</td> <td>    0.266</td>\n",
       "</tr>\n",
       "</table>\n",
       "<table class=\"simpletable\">\n",
       "<tr>\n",
       "  <th>Omnibus:</th>       <td>19827.882</td> <th>  Durbin-Watson:     </th>   <td>   2.012</td>  \n",
       "</tr>\n",
       "<tr>\n",
       "  <th>Prob(Omnibus):</th>  <td> 0.000</td>   <th>  Jarque-Bera (JB):  </th> <td>32672261.891</td>\n",
       "</tr>\n",
       "<tr>\n",
       "  <th>Skew:</th>           <td>10.747</td>   <th>  Prob(JB):          </th>   <td>    0.00</td>  \n",
       "</tr>\n",
       "<tr>\n",
       "  <th>Kurtosis:</th>       <td>257.624</td>  <th>  Cond. No.          </th>   <td>    2.77</td>  \n",
       "</tr>\n",
       "</table><br/><br/>Warnings:<br/>[1] Standard Errors assume that the covariance matrix of the errors is correctly specified."
      ],
      "text/plain": [
       "<class 'statsmodels.iolib.summary.Summary'>\n",
       "\"\"\"\n",
       "                            OLS Regression Results                            \n",
       "==============================================================================\n",
       "Dep. Variable:      taxvaluedollarcnt   R-squared:                       0.298\n",
       "Model:                            OLS   Adj. R-squared:                  0.298\n",
       "Method:                 Least Squares   F-statistic:                     2548.\n",
       "Date:                Sun, 20 Oct 2019   Prob (F-statistic):               0.00\n",
       "Time:                        13:55:57   Log-Likelihood:                -14915.\n",
       "No. Observations:               12009   AIC:                         2.984e+04\n",
       "Df Residuals:                   12006   BIC:                         2.986e+04\n",
       "Df Model:                           2                                         \n",
       "Covariance Type:            nonrobust                                         \n",
       "================================================================================================\n",
       "                                   coef    std err          t      P>|t|      [0.025      0.975]\n",
       "------------------------------------------------------------------------------------------------\n",
       "const                         9.541e-18      0.008   1.25e-15      1.000      -0.015       0.015\n",
       "bathroomcnt                      0.3373      0.012     28.193      0.000       0.314       0.361\n",
       "calculatedfinishedsquarefeet     0.2421      0.012     20.233      0.000       0.219       0.266\n",
       "==============================================================================\n",
       "Omnibus:                    19827.882   Durbin-Watson:                   2.012\n",
       "Prob(Omnibus):                  0.000   Jarque-Bera (JB):         32672261.891\n",
       "Skew:                          10.747   Prob(JB):                         0.00\n",
       "Kurtosis:                     257.624   Cond. No.                         2.77\n",
       "==============================================================================\n",
       "\n",
       "Warnings:\n",
       "[1] Standard Errors assume that the covariance matrix of the errors is correctly specified.\n",
       "\"\"\""
      ]
     },
     "execution_count": 30,
     "metadata": {},
     "output_type": "execute_result"
    }
   ],
   "source": [
    "X = sm.add_constant(base_train_scaled_X[['bathroomcnt','calculatedfinishedsquarefeet']])\n",
    "est = sm.OLS(base_train_scaled_y, X).fit()\n",
    "est.summary()"
   ]
  },
  {
   "cell_type": "markdown",
   "metadata": {},
   "source": [
    "**Takeaway from building initial model**\n",
    "1. The prediction isn't ideal when using raw data or scaled data. (Refer to the summary tables presented above) \n",
    "2. Feature selection indicated number of bathroom and calculated sq ft might be more impactful.  But when only use these two for modeling, the performance of model was worse."
   ]
  },
  {
   "cell_type": "markdown",
   "metadata": {},
   "source": [
    "# Second Model - Include All Numerical Numbers"
   ]
  },
  {
   "cell_type": "code",
   "execution_count": 25,
   "metadata": {},
   "outputs": [],
   "source": [
    "import split_scale\n",
    "# only scale train for actual modeling\n",
    "scaler, train_scaled = split_scale.standard_scaler(train)\n",
    "# also scale test so we can perform elimination feature engineering\n",
    "scaler, fe_train_scaled, fe_test_scaled =  split_scale.standard_scaler_all(train, test)"
   ]
  },
  {
   "cell_type": "code",
   "execution_count": 26,
   "metadata": {},
   "outputs": [],
   "source": [
    "X_train = train_scaled.drop(columns = \"taxvaluedollarcnt\")\n",
    "y_train = train_scaled.taxvaluedollarcnt\n",
    "\n",
    "X_train_feature = fe_train_scaled.drop(columns = \"taxvaluedollarcnt\")\n",
    "y_train_feature = fe_train_scaled.taxvaluedollarcnt\n",
    "\n",
    "X_test_feature = fe_test_scaled.drop(columns = \"taxvaluedollarcnt\")\n",
    "y_test_feature = fe_test_scaled.taxvaluedollarcnt"
   ]
  },
  {
   "cell_type": "code",
   "execution_count": 33,
   "metadata": {},
   "outputs": [
    {
     "name": "stderr",
     "output_type": "stream",
     "text": [
      "/usr/local/anaconda3/lib/python3.7/site-packages/numpy/core/fromnumeric.py:2389: FutureWarning: Method .ptp is deprecated and will be removed in a future version. Use numpy.ptp instead.\n",
      "  return ptp(axis=axis, out=out, **kwargs)\n"
     ]
    },
    {
     "data": {
      "text/html": [
       "<table class=\"simpletable\">\n",
       "<caption>OLS Regression Results</caption>\n",
       "<tr>\n",
       "  <th>Dep. Variable:</th>    <td>taxvaluedollarcnt</td> <th>  R-squared:         </th> <td>   0.402</td> \n",
       "</tr>\n",
       "<tr>\n",
       "  <th>Model:</th>                   <td>OLS</td>        <th>  Adj. R-squared:    </th> <td>   0.402</td> \n",
       "</tr>\n",
       "<tr>\n",
       "  <th>Method:</th>             <td>Least Squares</td>   <th>  F-statistic:       </th> <td>   897.6</td> \n",
       "</tr>\n",
       "<tr>\n",
       "  <th>Date:</th>             <td>Sun, 20 Oct 2019</td>  <th>  Prob (F-statistic):</th>  <td>  0.00</td>  \n",
       "</tr>\n",
       "<tr>\n",
       "  <th>Time:</th>                 <td>15:13:49</td>      <th>  Log-Likelihood:    </th> <td> -13949.</td> \n",
       "</tr>\n",
       "<tr>\n",
       "  <th>No. Observations:</th>      <td> 12009</td>       <th>  AIC:               </th> <td>2.792e+04</td>\n",
       "</tr>\n",
       "<tr>\n",
       "  <th>Df Residuals:</th>          <td> 11999</td>       <th>  BIC:               </th> <td>2.799e+04</td>\n",
       "</tr>\n",
       "<tr>\n",
       "  <th>Df Model:</th>              <td>     9</td>       <th>                     </th>     <td> </td>    \n",
       "</tr>\n",
       "<tr>\n",
       "  <th>Covariance Type:</th>      <td>nonrobust</td>     <th>                     </th>     <td> </td>    \n",
       "</tr>\n",
       "</table>\n",
       "<table class=\"simpletable\">\n",
       "<tr>\n",
       "                <td></td>                  <th>coef</th>     <th>std err</th>      <th>t</th>      <th>P>|t|</th>  <th>[0.025</th>    <th>0.975]</th>  \n",
       "</tr>\n",
       "<tr>\n",
       "  <th>const</th>                        <td> 9.541e-18</td> <td>    0.007</td> <td> 1.35e-15</td> <td> 1.000</td> <td>   -0.014</td> <td>    0.014</td>\n",
       "</tr>\n",
       "<tr>\n",
       "  <th>bathroomcnt</th>                  <td>    0.1441</td> <td>    0.015</td> <td>    9.752</td> <td> 0.000</td> <td>    0.115</td> <td>    0.173</td>\n",
       "</tr>\n",
       "<tr>\n",
       "  <th>bedroomcnt</th>                   <td>   -0.1838</td> <td>    0.010</td> <td>  -19.104</td> <td> 0.000</td> <td>   -0.203</td> <td>   -0.165</td>\n",
       "</tr>\n",
       "<tr>\n",
       "  <th>calculatedfinishedsquarefeet</th> <td>    0.6743</td> <td>    0.015</td> <td>   45.948</td> <td> 0.000</td> <td>    0.646</td> <td>    0.703</td>\n",
       "</tr>\n",
       "<tr>\n",
       "  <th>garagecarcnt</th>                 <td>   -0.0007</td> <td>    0.012</td> <td>   -0.056</td> <td> 0.956</td> <td>   -0.025</td> <td>    0.024</td>\n",
       "</tr>\n",
       "<tr>\n",
       "  <th>garagetotalsqft</th>              <td>   -0.0501</td> <td>    0.013</td> <td>   -3.838</td> <td> 0.000</td> <td>   -0.076</td> <td>   -0.025</td>\n",
       "</tr>\n",
       "<tr>\n",
       "  <th>roomcnt</th>                      <td>   -0.0221</td> <td>    0.008</td> <td>   -2.944</td> <td> 0.003</td> <td>   -0.037</td> <td>   -0.007</td>\n",
       "</tr>\n",
       "<tr>\n",
       "  <th>unitcnt</th>                      <td>    0.0086</td> <td>    0.007</td> <td>    1.204</td> <td> 0.229</td> <td>   -0.005</td> <td>    0.023</td>\n",
       "</tr>\n",
       "<tr>\n",
       "  <th>yearbuilt</th>                    <td>   -0.1207</td> <td>    0.008</td> <td>  -14.224</td> <td> 0.000</td> <td>   -0.137</td> <td>   -0.104</td>\n",
       "</tr>\n",
       "<tr>\n",
       "  <th>lotsizesquarefeet</th>            <td>-2.134e-05</td> <td>    0.007</td> <td>   -0.003</td> <td> 0.998</td> <td>   -0.014</td> <td>    0.014</td>\n",
       "</tr>\n",
       "</table>\n",
       "<table class=\"simpletable\">\n",
       "<tr>\n",
       "  <th>Omnibus:</th>       <td>18729.394</td> <th>  Durbin-Watson:     </th>   <td>   2.013</td>  \n",
       "</tr>\n",
       "<tr>\n",
       "  <th>Prob(Omnibus):</th>  <td> 0.000</td>   <th>  Jarque-Bera (JB):  </th> <td>25871802.802</td>\n",
       "</tr>\n",
       "<tr>\n",
       "  <th>Skew:</th>           <td> 9.555</td>   <th>  Prob(JB):          </th>   <td>    0.00</td>  \n",
       "</tr>\n",
       "<tr>\n",
       "  <th>Kurtosis:</th>       <td>229.583</td>  <th>  Cond. No.          </th>   <td>    4.98</td>  \n",
       "</tr>\n",
       "</table><br/><br/>Warnings:<br/>[1] Standard Errors assume that the covariance matrix of the errors is correctly specified."
      ],
      "text/plain": [
       "<class 'statsmodels.iolib.summary.Summary'>\n",
       "\"\"\"\n",
       "                            OLS Regression Results                            \n",
       "==============================================================================\n",
       "Dep. Variable:      taxvaluedollarcnt   R-squared:                       0.402\n",
       "Model:                            OLS   Adj. R-squared:                  0.402\n",
       "Method:                 Least Squares   F-statistic:                     897.6\n",
       "Date:                Sun, 20 Oct 2019   Prob (F-statistic):               0.00\n",
       "Time:                        15:13:49   Log-Likelihood:                -13949.\n",
       "No. Observations:               12009   AIC:                         2.792e+04\n",
       "Df Residuals:                   11999   BIC:                         2.799e+04\n",
       "Df Model:                           9                                         \n",
       "Covariance Type:            nonrobust                                         \n",
       "================================================================================================\n",
       "                                   coef    std err          t      P>|t|      [0.025      0.975]\n",
       "------------------------------------------------------------------------------------------------\n",
       "const                         9.541e-18      0.007   1.35e-15      1.000      -0.014       0.014\n",
       "bathroomcnt                      0.1441      0.015      9.752      0.000       0.115       0.173\n",
       "bedroomcnt                      -0.1838      0.010    -19.104      0.000      -0.203      -0.165\n",
       "calculatedfinishedsquarefeet     0.6743      0.015     45.948      0.000       0.646       0.703\n",
       "garagecarcnt                    -0.0007      0.012     -0.056      0.956      -0.025       0.024\n",
       "garagetotalsqft                 -0.0501      0.013     -3.838      0.000      -0.076      -0.025\n",
       "roomcnt                         -0.0221      0.008     -2.944      0.003      -0.037      -0.007\n",
       "unitcnt                          0.0086      0.007      1.204      0.229      -0.005       0.023\n",
       "yearbuilt                       -0.1207      0.008    -14.224      0.000      -0.137      -0.104\n",
       "lotsizesquarefeet            -2.134e-05      0.007     -0.003      0.998      -0.014       0.014\n",
       "==============================================================================\n",
       "Omnibus:                    18729.394   Durbin-Watson:                   2.013\n",
       "Prob(Omnibus):                  0.000   Jarque-Bera (JB):         25871802.802\n",
       "Skew:                           9.555   Prob(JB):                         0.00\n",
       "Kurtosis:                     229.583   Cond. No.                         4.98\n",
       "==============================================================================\n",
       "\n",
       "Warnings:\n",
       "[1] Standard Errors assume that the covariance matrix of the errors is correctly specified.\n",
       "\"\"\""
      ]
     },
     "execution_count": 33,
     "metadata": {},
     "output_type": "execute_result"
    }
   ],
   "source": [
    "# perform linear regression with all numerical data\n",
    "# without feature engineering\n",
    "\n",
    "X = sm.add_constant(X_train)\n",
    "est = sm.OLS(y_train, X).fit()\n",
    "est.summary()"
   ]
  },
  {
   "cell_type": "code",
   "execution_count": 29,
   "metadata": {},
   "outputs": [],
   "source": [
    "import features"
   ]
  },
  {
   "cell_type": "code",
   "execution_count": 34,
   "metadata": {},
   "outputs": [
    {
     "name": "stderr",
     "output_type": "stream",
     "text": [
      "/usr/local/anaconda3/lib/python3.7/site-packages/sklearn/model_selection/_split.py:1978: FutureWarning: The default value of cv will change from 3 to 5 in version 0.22. Specify it explicitly to silence this warning.\n",
      "  warnings.warn(CV_WARNING, FutureWarning)\n"
     ]
    },
    {
     "data": {
      "text/plain": [
       "calculatedfinishedsquarefeet    0.662651\n",
       "bathroomcnt                     0.131928\n",
       "unitcnt                         0.003829\n",
       "lotsizesquarefeet               0.000000\n",
       "garagecarcnt                   -0.000000\n",
       "roomcnt                        -0.020028\n",
       "garagetotalsqft                -0.042839\n",
       "yearbuilt                      -0.112360\n",
       "bedroomcnt                     -0.167963\n",
       "dtype: float64"
      ]
     },
     "execution_count": 34,
     "metadata": {},
     "output_type": "execute_result"
    }
   ],
   "source": [
    "coef_base = features.lasso_cv_coef(X_train, y_train)\n",
    "coef_base"
   ]
  },
  {
   "cell_type": "code",
   "execution_count": 30,
   "metadata": {},
   "outputs": [],
   "source": [
    "number_of_features = features.optimal_number_of_features(X_train_feature, y_train_feature, X_test_feature, y_test_feature)\n",
    "selected_features_rfe = features.optimal_features(X_train_feature, y_train_feature, number_of_features)"
   ]
  },
  {
   "cell_type": "code",
   "execution_count": 31,
   "metadata": {},
   "outputs": [
    {
     "data": {
      "text/plain": [
       "Index(['bathroomcnt', 'bedroomcnt', 'calculatedfinishedsquarefeet',\n",
       "       'garagetotalsqft', 'yearbuilt'],\n",
       "      dtype='object')"
      ]
     },
     "execution_count": 31,
     "metadata": {},
     "output_type": "execute_result"
    }
   ],
   "source": [
    "selected_features_rfe"
   ]
  },
  {
   "cell_type": "code",
   "execution_count": 36,
   "metadata": {},
   "outputs": [],
   "source": [
    "inv_scaler, inv_trian = split_scale.my_inv_transform(scaler, train_scaled)\n",
    "\n",
    "inv_X_train = inv_trian.drop(columns = \"taxvaluedollarcnt\")\n",
    "inv_y_train = inv_trian.taxvaluedollarcnt"
   ]
  },
  {
   "cell_type": "code",
   "execution_count": 46,
   "metadata": {},
   "outputs": [],
   "source": [
    "X_train = train_scaled.drop(columns = \"taxvaluedollarcnt\")\n",
    "y_train = train_scaled.taxvaluedollarcnt\n",
    "\n",
    "X_train_feature = fe_train_scaled.drop(columns = \"taxvaluedollarcnt\")\n",
    "y_train_feature = fe_train_scaled.taxvaluedollarcnt\n",
    "\n",
    "X_test_feature = fe_test_scaled.drop(columns = \"taxvaluedollarcnt\")\n",
    "y_test_feature = fe_test_scaled.taxvaluedollarcnt"
   ]
  },
  {
   "cell_type": "code",
   "execution_count": 58,
   "metadata": {},
   "outputs": [],
   "source": [
    "from sklearn.preprocessing import PolynomialFeatures\n",
    "from sklearn.metrics import mean_squared_error\n",
    "from sklearn.metrics import r2_score\n",
    "\n",
    "def create_polynomial_regression_model(degree):\n",
    "\tresult = pd.DataFrame(y_train)\n",
    "\tresult['actual'] = pd.DataFrame(y_train)\n",
    "\t#result['test_actual'] = pd.DataFrame(y_test)\n",
    "\tresult['baseline'] = np.array([y_train.mean()]*len(y_train))\n",
    "    \n",
    "\t\"Creates a polynomial regression model for the given degree\"\n",
    "\tpoly_features = PolynomialFeatures(degree=degree)\n",
    "  \t# transforms the existing features to higher degree features.\n",
    "\tX_train_poly = poly_features.fit_transform(X_train_feature)\n",
    "  \t# fit the transformed features to Linear Regression\n",
    "\tpoly_model = LinearRegression()\n",
    "\tpoly_model.fit(X_train_poly, y_train_feature)\n",
    "\n",
    "  \t# predicting on training data-set\n",
    "\ty_train_predicted = poly_model.predict(X_train_poly)\n",
    "\tresult['y_train_pred']=y_train_predicted\n",
    "    \n",
    "\t# predicting on test data-set\n",
    "\ty_test_predict = poly_model.predict(poly_features.fit_transform(X_test_feature))\n",
    "\tresult['y_test_pred']=y_train_predicted\n",
    "    \n",
    "\t# evaluating the model on training dataset\n",
    "\trmse_train = np.sqrt(mean_squared_error(y_train_feature, y_train_predicted))\n",
    "\tr2_train = r2_score(y_train_feature, y_train_predicted)\n",
    "  \n",
    "\t# evaluating the model on test dataset\n",
    "\trmse_test = np.sqrt(mean_squared_error(y_test_feature, y_test_predict))\n",
    "\tr2_test = r2_score(y_test_feature, y_test_predict)\n",
    "\t\n",
    "\tprint(\"The model performance for the training set\")\n",
    "\tprint(\"-------------------------------------------\")\n",
    "\tprint(\"RMSE of training set is {}\".format(rmse_train))\n",
    "\tprint(\"R2 score of training set is {}\".format(r2_train))\n",
    "  \n",
    "\tprint(\"\\n\")\n",
    "  \n",
    "\tprint(\"The model performance for the test set\")\n",
    "\tprint(\"-------------------------------------------\")\n",
    "\tprint(\"RMSE of test set is {}\".format(rmse_test))\n",
    "\tprint(\"R2 score of test set is {}\".format(r2_test))\n",
    "\n",
    "\t#return y_train_predicted, y_test_predict\n",
    "\n",
    "#sns.scatterplot(X_test.flatten(), y_test_predict.flatten(), color='r')"
   ]
  },
  {
   "cell_type": "code",
   "execution_count": 61,
   "metadata": {},
   "outputs": [
    {
     "name": "stdout",
     "output_type": "stream",
     "text": [
      "The model performance for the training set\n",
      "-------------------------------------------\n",
      "RMSE of training set is 0.7030250210499092\n",
      "R2 score of training set is 0.5057558197777745\n",
      "\n",
      "\n",
      "The model performance for the test set\n",
      "-------------------------------------------\n",
      "RMSE of test set is 0.748822785700032\n",
      "R2 score of test set is 0.43610425694303967\n"
     ]
    }
   ],
   "source": [
    "create_polynomial_regression_model(3)"
   ]
  },
  {
   "cell_type": "code",
   "execution_count": 62,
   "metadata": {},
   "outputs": [
    {
     "name": "stdout",
     "output_type": "stream",
     "text": [
      "The model performance for the training set\n",
      "-------------------------------------------\n",
      "RMSE of training set is 0.7334962344565102\n",
      "R2 score of training set is 0.4619832740381201\n",
      "\n",
      "\n",
      "The model performance for the test set\n",
      "-------------------------------------------\n",
      "RMSE of test set is 0.7543592171885171\n",
      "R2 score of test set is 0.4277350903728523\n"
     ]
    }
   ],
   "source": [
    "create_polynomial_regression_model(2)"
   ]
  },
  {
   "cell_type": "code",
   "execution_count": 64,
   "metadata": {},
   "outputs": [
    {
     "data": {
      "text/plain": [
       "['bathroomcnt',\n",
       " 'bedroomcnt',\n",
       " 'calculatedfinishedsquarefeet',\n",
       " 'garagetotalsqft',\n",
       " 'yearbuilt']"
      ]
     },
     "execution_count": 64,
     "metadata": {},
     "output_type": "execute_result"
    }
   ],
   "source": [
    "# Create correlation matrix\n",
    "corr_matrix = numerical.corr().abs()\n",
    "\n",
    "# Select upper triangle of correlation matrix\n",
    "upper = corr_matrix.where(np.triu(np.ones(corr_matrix.shape), k=1).astype(np.bool))\n",
    "\n",
    "# Find index of feature columns with correlation greater than 0.95\n",
    "get = [column for column in upper.columns if any(upper[column] > 0.5)]\n",
    "get"
   ]
  },
  {
   "cell_type": "code",
   "execution_count": 72,
   "metadata": {},
   "outputs": [],
   "source": [
    "X_train_ff = fe_train_scaled[['bathroomcnt', 'bedroomcnt', 'calculatedfinishedsquarefeet','garagetotalsqft', 'yearbuilt']]\n",
    "y_train_ff = fe_train_scaled.taxvaluedollarcnt\n",
    "\n",
    "X_test_ff = fe_test_scaled[['bathroomcnt', 'bedroomcnt', 'calculatedfinishedsquarefeet','garagetotalsqft', 'yearbuilt']]\n",
    "y_test_ff = fe_test_scaled.taxvaluedollarcnt\n",
    "                           "
   ]
  },
  {
   "cell_type": "code",
   "execution_count": 79,
   "metadata": {},
   "outputs": [],
   "source": [
    "def create_polynomial_regression_model(degree):\n",
    "\tresult2 = pd.DataFrame(y_train)\n",
    "\tresult2['actual'] = pd.DataFrame(y_train_ff)\n",
    "\t#result['test_actual'] = pd.DataFrame(y_test)\n",
    "\tresult2['baseline'] = np.array([y_train_ff.mean()]*len(y_train_ff))\n",
    "    \n",
    "\t\"Creates a polynomial regression model for the given degree\"\n",
    "\tpoly_features = PolynomialFeatures(degree=degree)\n",
    "  \t# transforms the existing features to higher degree features.\n",
    "\tX_train_poly = poly_features.fit_transform(X_train_ff)\n",
    "  \t# fit the transformed features to Linear Regression\n",
    "\tpoly_model = LinearRegression()\n",
    "\tpoly_model.fit(X_train_poly, y_train_ff)\n",
    "\n",
    "  \t# predicting on training data-set\n",
    "\ty_train_predicted = poly_model.predict(X_train_poly)\n",
    "\tresult2['y_train_pred']=y_train_predicted\n",
    "    \n",
    "\t# predicting on test data-set\n",
    "\ty_test_predict = poly_model.predict(poly_features.fit_transform(X_test_ff))\n",
    "\tresult2['y_test_pred']=y_train_predicted\n",
    "    \n",
    "\t# evaluating the model on training dataset\n",
    "\trmse_train = np.sqrt(mean_squared_error(y_train_ff, y_train_predicted))\n",
    "\tr2_train = r2_score(y_train_feature, y_train_predicted)\n",
    "  \n",
    "\t# evaluating the model on test dataset\n",
    "\trmse_test = np.sqrt(mean_squared_error(y_test_ff, y_test_predict))\n",
    "\tr2_test = r2_score(y_test_feature, y_test_predict)\n",
    "\t\n",
    "\tprint(\"The model performance for the training set\")\n",
    "\tprint(\"-------------------------------------------\")\n",
    "\tprint(\"RMSE of training set is {}\".format(rmse_train))\n",
    "\tprint(\"R2 score of training set is {}\".format(r2_train))\n",
    "  \n",
    "\tprint(\"\\n\")\n",
    "  \n",
    "\tprint(\"The model performance for the test set\")\n",
    "\tprint(\"-------------------------------------------\")\n",
    "\tprint(\"RMSE of test set is {}\".format(rmse_test))\n",
    "\tprint(\"R2 score of test set is {}\".format(r2_test))\n",
    "\treturn result2\n",
    "\n",
    "\t#return y_train_predicted, y_test_predict\n",
    "\n",
    "#sns.scatterplot(X_test.flatten(), y_test_predict.flatten(), color='r')"
   ]
  },
  {
   "cell_type": "code",
   "execution_count": 81,
   "metadata": {},
   "outputs": [
    {
     "name": "stdout",
     "output_type": "stream",
     "text": [
      "The model performance for the training set\n",
      "-------------------------------------------\n",
      "RMSE of training set is 0.7219296080962163\n",
      "R2 score of training set is 0.47881764095404333\n",
      "\n",
      "\n",
      "The model performance for the test set\n",
      "-------------------------------------------\n",
      "RMSE of test set is 0.7297213149957081\n",
      "R2 score of test set is 0.4645057913520285\n"
     ]
    }
   ],
   "source": [
    "result2 = create_polynomial_regression_model(3) # try less features"
   ]
  },
  {
   "cell_type": "code",
   "execution_count": null,
   "metadata": {},
   "outputs": [],
   "source": []
  },
  {
   "cell_type": "code",
   "execution_count": null,
   "metadata": {},
   "outputs": [],
   "source": []
  },
  {
   "cell_type": "code",
   "execution_count": null,
   "metadata": {},
   "outputs": [],
   "source": [
    "# Polynomial Regression-nth order\n",
    "plt.scatter(new_X_test, y_test, s=10, alpha=0.3)\n",
    "\n",
    "for degree in [1,2,3,4,5,6,7]:\n",
    "\n",
    "    model = make_pipeline(PolynomialFeatures(degree), LinearRegression())\n",
    "\n",
    "    model.fit(new_X_train,y_train)\n",
    "\n",
    "    y_plot = model.predict(new_X_test)\n",
    "\n",
    "    plt.plot(new_X_test, y_plot, label=\"degree %d\" % degree\n",
    "\n",
    "             +'; $R^2$: %.2f' % model.score(x_test_set, y_test_set))\n",
    "\n",
    "plt.legend(loc='upper right')\n",
    "\n",
    "plt.xlabel(\"Test LSTAT Data\")\n",
    "\n",
    "plt.ylabel(\"Predicted Price\")\n",
    "\n",
    "plt.title(\"Variance Explained with Varying Polynomial\")\n",
    "\n",
    "plt.show()"
   ]
  }
 ],
 "metadata": {
  "kernelspec": {
   "display_name": "Python 3",
   "language": "python",
   "name": "python3"
  },
  "language_info": {
   "codemirror_mode": {
    "name": "ipython",
    "version": 3
   },
   "file_extension": ".py",
   "mimetype": "text/x-python",
   "name": "python",
   "nbconvert_exporter": "python",
   "pygments_lexer": "ipython3",
   "version": "3.7.3"
  },
  "toc": {
   "base_numbering": 1,
   "nav_menu": {},
   "number_sections": true,
   "sideBar": true,
   "skip_h1_title": false,
   "title_cell": "Table of Contents",
   "title_sidebar": "Contents",
   "toc_cell": false,
   "toc_position": {},
   "toc_section_display": true,
   "toc_window_display": false
  },
  "varInspector": {
   "cols": {
    "lenName": 16,
    "lenType": 16,
    "lenVar": 40
   },
   "kernels_config": {
    "python": {
     "delete_cmd_postfix": "",
     "delete_cmd_prefix": "del ",
     "library": "var_list.py",
     "varRefreshCmd": "print(var_dic_list())"
    },
    "r": {
     "delete_cmd_postfix": ") ",
     "delete_cmd_prefix": "rm(",
     "library": "var_list.r",
     "varRefreshCmd": "cat(var_dic_list()) "
    }
   },
   "types_to_exclude": [
    "module",
    "function",
    "builtin_function_or_method",
    "instance",
    "_Feature"
   ],
   "window_display": false
  }
 },
 "nbformat": 4,
 "nbformat_minor": 2
}
